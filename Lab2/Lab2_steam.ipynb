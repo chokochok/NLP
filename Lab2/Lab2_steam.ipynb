{
 "cells": [
  {
   "cell_type": "code",
   "execution_count": 1,
   "id": "d999b522",
   "metadata": {},
   "outputs": [
    {
     "name": "stdout",
     "output_type": "stream",
     "text": [
      "Note: you may need to restart the kernel to use updated packages.\n"
     ]
    }
   ],
   "source": [
    "%pip install -q pysbd"
   ]
  },
  {
   "cell_type": "code",
   "execution_count": 2,
   "id": "9df55b44",
   "metadata": {},
   "outputs": [
    {
     "name": "stderr",
     "output_type": "stream",
     "text": [
      "2025-06-19 21:19:39.467314: E external/local_xla/xla/stream_executor/cuda/cuda_fft.cc:477] Unable to register cuFFT factory: Attempting to register factory for plugin cuFFT when one has already been registered\n",
      "WARNING: All log messages before absl::InitializeLog() is called are written to STDERR\n",
      "E0000 00:00:1750367979.491189    8416 cuda_dnn.cc:8310] Unable to register cuDNN factory: Attempting to register factory for plugin cuDNN when one has already been registered\n",
      "E0000 00:00:1750367979.498650    8416 cuda_blas.cc:1418] Unable to register cuBLAS factory: Attempting to register factory for plugin cuBLAS when one has already been registered\n"
     ]
    }
   ],
   "source": [
    "import warnings\n",
    "\n",
    "import pysbd\n",
    "import torch\n",
    "from datasets import concatenate_datasets, load_dataset\n",
    "from tqdm import tqdm\n",
    "from transformers import T5ForConditionalGeneration, T5Tokenizer\n",
    "\n",
    "warnings.filterwarnings('ignore')"
   ]
  },
  {
   "cell_type": "code",
   "execution_count": null,
   "id": "68714c9d",
   "metadata": {},
   "outputs": [],
   "source": [
    "subreddits = [\"askphysics\"]\n",
    "\n",
    "splits = [\"train\", \"validation\", \"test\"]\n",
    "\n",
    "all_data = {split: [] for split in splits}\n",
    "for subreddit in subreddits:\n",
    "    data = load_dataset(\"stanfordnlp/shp\", data_dir=subreddit)\n",
    "    for split in splits:\n",
    "        all_data[split].append(data[split])\n",
    "\n",
    "final_dataset = {\n",
    "    split: concatenate_datasets(all_data[split]) for split in splits\n",
    "}\n",
    "\n",
    "train_dataset = final_dataset[\"train\"]\n",
    "val_dataset = final_dataset[\"validation\"]\n",
    "test_dataset = final_dataset[\"test\"]\n"
   ]
  },
  {
   "cell_type": "code",
   "execution_count": 4,
   "id": "91e8ede0",
   "metadata": {},
   "outputs": [
    {
     "name": "stderr",
     "output_type": "stream",
     "text": [
      "You are using the default legacy behaviour of the <class 'transformers.models.t5.tokenization_t5.T5Tokenizer'>. This is expected, and simply means that the `legacy` (previous) behavior will be used so nothing changes for you. If you want to use the new behaviour, set `legacy=False`. This should only be set if you understand what it means, and thoroughly read the reason why this was added as explained in https://github.com/huggingface/transformers/pull/24565\n"
     ]
    },
    {
     "data": {
      "application/vnd.jupyter.widget-view+json": {
       "model_id": "bb027017b6e243baa3cb6d10463d1748",
       "version_major": 2,
       "version_minor": 0
      },
      "text/plain": [
       "Loading checkpoint shards:   0%|          | 0/2 [00:00<?, ?it/s]"
      ]
     },
     "metadata": {},
     "output_type": "display_data"
    },
    {
     "data": {
      "text/plain": [
       "T5ForConditionalGeneration(\n",
       "  (shared): Embedding(32128, 2048)\n",
       "  (encoder): T5Stack(\n",
       "    (embed_tokens): Embedding(32128, 2048)\n",
       "    (block): ModuleList(\n",
       "      (0): T5Block(\n",
       "        (layer): ModuleList(\n",
       "          (0): T5LayerSelfAttention(\n",
       "            (SelfAttention): T5Attention(\n",
       "              (q): Linear(in_features=2048, out_features=2048, bias=False)\n",
       "              (k): Linear(in_features=2048, out_features=2048, bias=False)\n",
       "              (v): Linear(in_features=2048, out_features=2048, bias=False)\n",
       "              (o): Linear(in_features=2048, out_features=2048, bias=False)\n",
       "              (relative_attention_bias): Embedding(32, 32)\n",
       "            )\n",
       "            (layer_norm): T5LayerNorm()\n",
       "            (dropout): Dropout(p=0.1, inplace=False)\n",
       "          )\n",
       "          (1): T5LayerFF(\n",
       "            (DenseReluDense): T5DenseGatedActDense(\n",
       "              (wi_0): Linear(in_features=2048, out_features=5120, bias=False)\n",
       "              (wi_1): Linear(in_features=2048, out_features=5120, bias=False)\n",
       "              (wo): Linear(in_features=5120, out_features=2048, bias=False)\n",
       "              (dropout): Dropout(p=0.1, inplace=False)\n",
       "              (act): NewGELUActivation()\n",
       "            )\n",
       "            (layer_norm): T5LayerNorm()\n",
       "            (dropout): Dropout(p=0.1, inplace=False)\n",
       "          )\n",
       "        )\n",
       "      )\n",
       "      (1-23): 23 x T5Block(\n",
       "        (layer): ModuleList(\n",
       "          (0): T5LayerSelfAttention(\n",
       "            (SelfAttention): T5Attention(\n",
       "              (q): Linear(in_features=2048, out_features=2048, bias=False)\n",
       "              (k): Linear(in_features=2048, out_features=2048, bias=False)\n",
       "              (v): Linear(in_features=2048, out_features=2048, bias=False)\n",
       "              (o): Linear(in_features=2048, out_features=2048, bias=False)\n",
       "            )\n",
       "            (layer_norm): T5LayerNorm()\n",
       "            (dropout): Dropout(p=0.1, inplace=False)\n",
       "          )\n",
       "          (1): T5LayerFF(\n",
       "            (DenseReluDense): T5DenseGatedActDense(\n",
       "              (wi_0): Linear(in_features=2048, out_features=5120, bias=False)\n",
       "              (wi_1): Linear(in_features=2048, out_features=5120, bias=False)\n",
       "              (wo): Linear(in_features=5120, out_features=2048, bias=False)\n",
       "              (dropout): Dropout(p=0.1, inplace=False)\n",
       "              (act): NewGELUActivation()\n",
       "            )\n",
       "            (layer_norm): T5LayerNorm()\n",
       "            (dropout): Dropout(p=0.1, inplace=False)\n",
       "          )\n",
       "        )\n",
       "      )\n",
       "    )\n",
       "    (final_layer_norm): T5LayerNorm()\n",
       "    (dropout): Dropout(p=0.1, inplace=False)\n",
       "  )\n",
       "  (decoder): T5Stack(\n",
       "    (embed_tokens): Embedding(32128, 2048)\n",
       "    (block): ModuleList(\n",
       "      (0): T5Block(\n",
       "        (layer): ModuleList(\n",
       "          (0): T5LayerSelfAttention(\n",
       "            (SelfAttention): T5Attention(\n",
       "              (q): Linear(in_features=2048, out_features=2048, bias=False)\n",
       "              (k): Linear(in_features=2048, out_features=2048, bias=False)\n",
       "              (v): Linear(in_features=2048, out_features=2048, bias=False)\n",
       "              (o): Linear(in_features=2048, out_features=2048, bias=False)\n",
       "              (relative_attention_bias): Embedding(32, 32)\n",
       "            )\n",
       "            (layer_norm): T5LayerNorm()\n",
       "            (dropout): Dropout(p=0.1, inplace=False)\n",
       "          )\n",
       "          (1): T5LayerCrossAttention(\n",
       "            (EncDecAttention): T5Attention(\n",
       "              (q): Linear(in_features=2048, out_features=2048, bias=False)\n",
       "              (k): Linear(in_features=2048, out_features=2048, bias=False)\n",
       "              (v): Linear(in_features=2048, out_features=2048, bias=False)\n",
       "              (o): Linear(in_features=2048, out_features=2048, bias=False)\n",
       "            )\n",
       "            (layer_norm): T5LayerNorm()\n",
       "            (dropout): Dropout(p=0.1, inplace=False)\n",
       "          )\n",
       "          (2): T5LayerFF(\n",
       "            (DenseReluDense): T5DenseGatedActDense(\n",
       "              (wi_0): Linear(in_features=2048, out_features=5120, bias=False)\n",
       "              (wi_1): Linear(in_features=2048, out_features=5120, bias=False)\n",
       "              (wo): Linear(in_features=5120, out_features=2048, bias=False)\n",
       "              (dropout): Dropout(p=0.1, inplace=False)\n",
       "              (act): NewGELUActivation()\n",
       "            )\n",
       "            (layer_norm): T5LayerNorm()\n",
       "            (dropout): Dropout(p=0.1, inplace=False)\n",
       "          )\n",
       "        )\n",
       "      )\n",
       "      (1-23): 23 x T5Block(\n",
       "        (layer): ModuleList(\n",
       "          (0): T5LayerSelfAttention(\n",
       "            (SelfAttention): T5Attention(\n",
       "              (q): Linear(in_features=2048, out_features=2048, bias=False)\n",
       "              (k): Linear(in_features=2048, out_features=2048, bias=False)\n",
       "              (v): Linear(in_features=2048, out_features=2048, bias=False)\n",
       "              (o): Linear(in_features=2048, out_features=2048, bias=False)\n",
       "            )\n",
       "            (layer_norm): T5LayerNorm()\n",
       "            (dropout): Dropout(p=0.1, inplace=False)\n",
       "          )\n",
       "          (1): T5LayerCrossAttention(\n",
       "            (EncDecAttention): T5Attention(\n",
       "              (q): Linear(in_features=2048, out_features=2048, bias=False)\n",
       "              (k): Linear(in_features=2048, out_features=2048, bias=False)\n",
       "              (v): Linear(in_features=2048, out_features=2048, bias=False)\n",
       "              (o): Linear(in_features=2048, out_features=2048, bias=False)\n",
       "            )\n",
       "            (layer_norm): T5LayerNorm()\n",
       "            (dropout): Dropout(p=0.1, inplace=False)\n",
       "          )\n",
       "          (2): T5LayerFF(\n",
       "            (DenseReluDense): T5DenseGatedActDense(\n",
       "              (wi_0): Linear(in_features=2048, out_features=5120, bias=False)\n",
       "              (wi_1): Linear(in_features=2048, out_features=5120, bias=False)\n",
       "              (wo): Linear(in_features=5120, out_features=2048, bias=False)\n",
       "              (dropout): Dropout(p=0.1, inplace=False)\n",
       "              (act): NewGELUActivation()\n",
       "            )\n",
       "            (layer_norm): T5LayerNorm()\n",
       "            (dropout): Dropout(p=0.1, inplace=False)\n",
       "          )\n",
       "        )\n",
       "      )\n",
       "    )\n",
       "    (final_layer_norm): T5LayerNorm()\n",
       "    (dropout): Dropout(p=0.1, inplace=False)\n",
       "  )\n",
       "  (lm_head): Linear(in_features=2048, out_features=32128, bias=False)\n",
       ")"
      ]
     },
     "execution_count": 4,
     "metadata": {},
     "output_type": "execute_result"
    }
   ],
   "source": [
    "device = 'cuda'\n",
    "\n",
    "tokenizer = T5Tokenizer.from_pretrained('stanfordnlp/SteamSHP-flan-t5-xl', verbose=False)\n",
    "\n",
    "model = T5ForConditionalGeneration.from_pretrained(\n",
    "    'stanfordnlp/SteamSHP-flan-t5-xl',\n",
    "    device_map=device\n",
    ").to(device)\n",
    "model.eval()"
   ]
  },
  {
   "cell_type": "code",
   "execution_count": 5,
   "id": "f20843b4",
   "metadata": {},
   "outputs": [],
   "source": [
    "segmenter = pysbd.Segmenter(language=\"en\", clean=False)\n",
    "\n",
    "def create_full_input(prompt, response_a, response_b=None):\n",
    "    return (\n",
    "        f\"POST: {prompt.strip()}\\n\\n\"\n",
    "        f\"RESPONSE A: {response_a.strip()}\\n\\n\"\n",
    "        f\"RESPONSE B: {response_b.strip() if response_b else '.'}\\n\\n\"\n",
    "        f\"Which response is better? RESPONSE\"\n",
    "    )\n",
    "\n",
    "def prepare_input_with_pysbd(tokenizer, prompt, response_a, response_b=None, max_tokens=512):\n",
    "    prompt_sentences = segmenter.segment(prompt.strip())\n",
    "    response_b = response_b if response_b else \".\"\n",
    "\n",
    "    for start in range(len(prompt_sentences)):\n",
    "        truncated_prompt = \" \".join(prompt_sentences[start:])\n",
    "        full_input = create_full_input(truncated_prompt, response_a, response_b)\n",
    "        input_ids = tokenizer(full_input, return_tensors=\"pt\").input_ids\n",
    "        if input_ids.shape[1] <= max_tokens:\n",
    "            return full_input\n",
    "\n",
    "    fallback_input = create_full_input(prompt, response_a, response_b)\n",
    "    encoded = tokenizer(\n",
    "        fallback_input,\n",
    "        truncation=True,\n",
    "        max_length=max_tokens,\n",
    "        return_tensors=\"pt\"\n",
    "    )\n",
    "    return tokenizer.decode(encoded[\"input_ids\"][0], skip_special_tokens=True)\n"
   ]
  },
  {
   "cell_type": "code",
   "execution_count": 6,
   "id": "ee9d0510",
   "metadata": {},
   "outputs": [],
   "source": [
    "def score_steam_likelihood(model, tokenizer, prompt, response):\n",
    "    input_text = prepare_input_with_pysbd(tokenizer, prompt, response, max_tokens=512)\n",
    "    \n",
    "    inputs = tokenizer(\n",
    "        [input_text], \n",
    "        return_tensors='pt',\n",
    "        truncation=True,\n",
    "        max_length=512\n",
    "    ).to(model.device)\n",
    "    \n",
    "    with torch.no_grad():\n",
    "        outputs = model.generate(\n",
    "            **inputs,\n",
    "            return_dict_in_generate=True, \n",
    "            output_scores=True, \n",
    "            max_new_tokens=1\n",
    "        )\n",
    "        \n",
    "    # Index 71 corresponds to the token for 'A'\n",
    "    score = torch.exp(outputs.scores[0][:, 71]) / torch.exp(outputs.scores[0][:,:]).sum(axis=1).item()\n",
    "    return score\n"
   ]
  },
  {
   "cell_type": "code",
   "execution_count": 7,
   "id": "77dac424",
   "metadata": {},
   "outputs": [],
   "source": [
    "def score_pairwise(prompt, answer_a, answer_b):\n",
    "    score_a = score_steam_likelihood(model, tokenizer, prompt, answer_a)\n",
    "    score_b = score_steam_likelihood(model, tokenizer, prompt, answer_b)\n",
    "\n",
    "    return 1 if score_a > score_b else 0\n"
   ]
  },
  {
   "cell_type": "code",
   "execution_count": null,
   "id": "666844f6",
   "metadata": {},
   "outputs": [],
   "source": [
    "def eval_model(num_eval):\n",
    "    print(f\"Evaluating model on {num_eval} samples\")\n",
    "\n",
    "    samples = val_dataset.select(range(num_eval))\n",
    "\n",
    "    correct = 0\n",
    "    invalid_predictions = 0\n",
    "\n",
    "    for ex in tqdm(samples):\n",
    "        pred = score_pairwise(\n",
    "            ex[\"history\"],\n",
    "            ex[\"human_ref_A\"],\n",
    "            ex[\"human_ref_B\"]\n",
    "        )\n",
    "\n",
    "        if pred is None:\n",
    "            print(\"Warning: Received None prediction\")\n",
    "            invalid_predictions += 1\n",
    "            continue\n",
    "\n",
    "        correct += int(pred == ex[\"labels\"])\n",
    "\n",
    "    valid_samples = num_eval - invalid_predictions\n",
    "    if valid_samples > 0:\n",
    "        accuracy = correct / valid_samples\n",
    "        print(\"\\nResults:\")\n",
    "        print(f\"Correct predictions: {correct}\")\n",
    "        print(f\"Valid samples evaluated: {valid_samples}/{num_eval}\")\n",
    "        print(f\"Pairwise zero-shot accuracy: {accuracy:.4f}\")\n",
    "    else:\n",
    "        print(\"No valid predictions were made.\")\n"
   ]
  },
  {
   "cell_type": "code",
   "execution_count": 9,
   "id": "a200a915",
   "metadata": {},
   "outputs": [
    {
     "name": "stdout",
     "output_type": "stream",
     "text": [
      "Evaluating model on 100 samples\n"
     ]
    },
    {
     "name": "stderr",
     "output_type": "stream",
     "text": [
      "  0%|          | 0/100 [00:00<?, ?it/s]Token indices sequence length is longer than the specified maximum sequence length for this model (553 > 512). Running this sequence through the model will result in indexing errors\n",
      "100%|██████████| 100/100 [01:35<00:00,  1.05it/s]"
     ]
    },
    {
     "name": "stdout",
     "output_type": "stream",
     "text": [
      "\n",
      "Results:\n",
      "Correct predictions: 84\n",
      "Valid samples evaluated: 100/100\n",
      "Pairwise zero-shot accuracy: 0.8400\n"
     ]
    },
    {
     "name": "stderr",
     "output_type": "stream",
     "text": [
      "\n"
     ]
    }
   ],
   "source": [
    "eval_model(100)"
   ]
  }
 ],
 "metadata": {
  "kernelspec": {
   "display_name": "nlp311",
   "language": "python",
   "name": "python3"
  },
  "language_info": {
   "codemirror_mode": {
    "name": "ipython",
    "version": 3
   },
   "file_extension": ".py",
   "mimetype": "text/x-python",
   "name": "python",
   "nbconvert_exporter": "python",
   "pygments_lexer": "ipython3",
   "version": "3.10.18"
  }
 },
 "nbformat": 4,
 "nbformat_minor": 5
}
