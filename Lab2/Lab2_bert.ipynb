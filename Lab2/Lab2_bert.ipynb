{
 "cells": [
  {
   "cell_type": "markdown",
   "id": "193758cf",
   "metadata": {},
   "source": [
    "# Imports"
   ]
  },
  {
   "cell_type": "code",
   "execution_count": null,
   "id": "e6b03a19",
   "metadata": {},
   "outputs": [
    {
     "name": "stderr",
     "output_type": "stream",
     "text": [
      "\u001b[34m\u001b[1mwandb\u001b[0m: \u001b[33mWARNING\u001b[0m If you're specifying your api key in code, ensure this code is not shared publicly.\n",
      "\u001b[34m\u001b[1mwandb\u001b[0m: \u001b[33mWARNING\u001b[0m Consider setting the WANDB_API_KEY environment variable, or running `wandb login` from the command line.\n",
      "\u001b[34m\u001b[1mwandb\u001b[0m: Appending key for api.wandb.ai to your netrc file: /root/.netrc\n",
      "\u001b[34m\u001b[1mwandb\u001b[0m: Currently logged in as: \u001b[33mnomark\u001b[0m (\u001b[33mnomark-igor-sikorsky-kyiv-polytechnic-institute\u001b[0m) to \u001b[32mhttps://api.wandb.ai\u001b[0m. Use \u001b[1m`wandb login --relogin`\u001b[0m to force relogin\n"
     ]
    },
    {
     "data": {
      "text/plain": [
       "True"
      ]
     },
     "execution_count": 1,
     "metadata": {},
     "output_type": "execute_result"
    }
   ],
   "source": [
    "import wandb\n",
    "\n",
    "wandb.login(\n",
    "    key=\"123\",  # Replace with your actual API key\n",
    ")\n"
   ]
  },
  {
   "cell_type": "code",
   "execution_count": null,
   "id": "1c3f7225",
   "metadata": {},
   "outputs": [],
   "source": [
    "import warnings\n",
    "\n",
    "warnings.filterwarnings(\"ignore\")\n"
   ]
  },
  {
   "cell_type": "code",
   "execution_count": null,
   "id": "1f651407",
   "metadata": {},
   "outputs": [
    {
     "name": "stderr",
     "output_type": "stream",
     "text": [
      "2025-06-19 20:57:46.149672: E external/local_xla/xla/stream_executor/cuda/cuda_fft.cc:477] Unable to register cuFFT factory: Attempting to register factory for plugin cuFFT when one has already been registered\n",
      "WARNING: All log messages before absl::InitializeLog() is called are written to STDERR\n",
      "E0000 00:00:1750366666.174822    7437 cuda_dnn.cc:8310] Unable to register cuDNN factory: Attempting to register factory for plugin cuDNN when one has already been registered\n",
      "E0000 00:00:1750366666.182507    7437 cuda_blas.cc:1418] Unable to register cuBLAS factory: Attempting to register factory for plugin cuBLAS when one has already been registered\n"
     ]
    }
   ],
   "source": [
    "import os\n",
    "\n",
    "import torch\n",
    "import torch.nn as nn\n",
    "from datasets import Dataset, concatenate_datasets, load_dataset\n",
    "from tqdm import tqdm\n",
    "from transformers import (\n",
    "    BertConfig,\n",
    "    BertForSequenceClassification,\n",
    "    BertModel,\n",
    "    BertPreTrainedModel,\n",
    "    BertTokenizer,\n",
    "    Trainer,\n",
    "    TrainingArguments,\n",
    ")\n",
    "from transformers.modeling_outputs import SequenceClassifierOutput\n"
   ]
  },
  {
   "cell_type": "code",
   "execution_count": null,
   "id": "b62a05af",
   "metadata": {},
   "outputs": [],
   "source": [
    "subreddits = [\"askphysics\"]\n",
    "\n",
    "splits = [\"train\", \"validation\", \"test\"]\n",
    "\n",
    "all_data = {split: [] for split in splits}\n",
    "\n",
    "for subreddit in subreddits:\n",
    "    data = load_dataset(\"stanfordnlp/shp\", data_dir=subreddit)\n",
    "    for split in splits:\n",
    "        all_data[split].append(data[split])\n",
    "\n",
    "final_dataset = {split: concatenate_datasets(all_data[split]) for split in splits}\n",
    "\n",
    "train_dataset = final_dataset[\"train\"]\n",
    "val_dataset = final_dataset[\"validation\"]\n",
    "test_dataset = final_dataset[\"test\"]\n"
   ]
  },
  {
   "cell_type": "markdown",
   "id": "5045cf74",
   "metadata": {},
   "source": [
    "# Load Model"
   ]
  },
  {
   "cell_type": "code",
   "execution_count": null,
   "id": "82175a91",
   "metadata": {},
   "outputs": [],
   "source": [
    "tokenizer = BertTokenizer.from_pretrained(\"bert-base-uncased\")"
   ]
  },
  {
   "cell_type": "code",
   "execution_count": null,
   "id": "45a28c75",
   "metadata": {},
   "outputs": [
    {
     "data": {
      "text/plain": [
       "BertScoringModel(\n",
       "  (bert): BertModel(\n",
       "    (embeddings): BertEmbeddings(\n",
       "      (word_embeddings): Embedding(30522, 768, padding_idx=0)\n",
       "      (position_embeddings): Embedding(512, 768)\n",
       "      (token_type_embeddings): Embedding(2, 768)\n",
       "      (LayerNorm): LayerNorm((768,), eps=1e-12, elementwise_affine=True)\n",
       "      (dropout): Dropout(p=0.1, inplace=False)\n",
       "    )\n",
       "    (encoder): BertEncoder(\n",
       "      (layer): ModuleList(\n",
       "        (0-11): 12 x BertLayer(\n",
       "          (attention): BertAttention(\n",
       "            (self): BertSdpaSelfAttention(\n",
       "              (query): Linear(in_features=768, out_features=768, bias=True)\n",
       "              (key): Linear(in_features=768, out_features=768, bias=True)\n",
       "              (value): Linear(in_features=768, out_features=768, bias=True)\n",
       "              (dropout): Dropout(p=0.1, inplace=False)\n",
       "            )\n",
       "            (output): BertSelfOutput(\n",
       "              (dense): Linear(in_features=768, out_features=768, bias=True)\n",
       "              (LayerNorm): LayerNorm((768,), eps=1e-12, elementwise_affine=True)\n",
       "              (dropout): Dropout(p=0.1, inplace=False)\n",
       "            )\n",
       "          )\n",
       "          (intermediate): BertIntermediate(\n",
       "            (dense): Linear(in_features=768, out_features=3072, bias=True)\n",
       "            (intermediate_act_fn): GELUActivation()\n",
       "          )\n",
       "          (output): BertOutput(\n",
       "            (dense): Linear(in_features=3072, out_features=768, bias=True)\n",
       "            (LayerNorm): LayerNorm((768,), eps=1e-12, elementwise_affine=True)\n",
       "            (dropout): Dropout(p=0.1, inplace=False)\n",
       "          )\n",
       "        )\n",
       "      )\n",
       "    )\n",
       "    (pooler): BertPooler(\n",
       "      (dense): Linear(in_features=768, out_features=768, bias=True)\n",
       "      (activation): Tanh()\n",
       "    )\n",
       "  )\n",
       "  (score_head): Linear(in_features=768, out_features=1, bias=True)\n",
       ")"
      ]
     },
     "execution_count": 10,
     "metadata": {},
     "output_type": "execute_result"
    }
   ],
   "source": [
    "class BertScoringModel(BertPreTrainedModel):\n",
    "    def __init__(self, config):\n",
    "        super().__init__(config)\n",
    "        self.bert = BertModel(config)\n",
    "        self.score_head = nn.Linear(config.hidden_size, 1)\n",
    "        self.post_init()\n",
    "\n",
    "    def forward(\n",
    "        self, input_ids=None, attention_mask=None, token_type_ids=None, labels=None\n",
    "    ):\n",
    "        outputs = self.bert(\n",
    "            input_ids=input_ids,\n",
    "            attention_mask=attention_mask,\n",
    "            token_type_ids=token_type_ids,\n",
    "        )\n",
    "        cls_output = outputs.last_hidden_state[:, 0, :]\n",
    "        scores = self.score_head(cls_output).squeeze(-1)\n",
    "\n",
    "        loss = None\n",
    "        if labels is not None:\n",
    "            labels = labels.float()\n",
    "            loss = nn.MSELoss()(scores, labels)\n",
    "\n",
    "        return SequenceClassifierOutput(loss=loss, logits=scores)\n",
    "\n",
    "\n",
    "config = BertConfig.from_pretrained(\"bert-base-uncased\")\n",
    "model = BertScoringModel(config)\n",
    "model.to(\"cuda\" if torch.cuda.is_available() else \"cpu\")"
   ]
  },
  {
   "cell_type": "markdown",
   "id": "b7d776c0",
   "metadata": {},
   "source": [
    "# Zero eval"
   ]
  },
  {
   "cell_type": "code",
   "execution_count": null,
   "id": "0dfe2342",
   "metadata": {},
   "outputs": [],
   "source": [
    "def eval_model(model, dataset, num_samples):\n",
    "    samples = dataset.select(range(num_samples))\n",
    "\n",
    "    model.eval()\n",
    "\n",
    "    successful = 0\n",
    "\n",
    "    def get_score(prompt, response):\n",
    "        combined_text = f\"{prompt} {tokenizer.sep_token} {response}\"\n",
    "        inputs = tokenizer(\n",
    "            combined_text,\n",
    "            return_tensors=\"pt\",\n",
    "            truncation=True,\n",
    "            padding=\"max_length\",\n",
    "            max_length=512,\n",
    "        )\n",
    "        inputs = {k: v.to(model.device) for k, v in inputs.items()}\n",
    "        with torch.no_grad():\n",
    "            output = model(**inputs)\n",
    "            score = output.logits.item()\n",
    "\n",
    "        return score\n",
    "\n",
    "    for ex in tqdm(samples):\n",
    "        prompt = ex[\"history\"].strip()\n",
    "        response_a = ex[\"human_ref_A\"].strip()\n",
    "        response_b = ex[\"human_ref_B\"].strip()\n",
    "\n",
    "        score_a = get_score(prompt, response_a)\n",
    "        score_b = get_score(prompt, response_b)\n",
    "\n",
    "        successful += 1 if score_a > score_b and ex[\"labels\"] == 1 else 0\n",
    "        successful += 1 if score_b > score_a and ex[\"labels\"] == 0 else 0\n",
    "\n",
    "    print(\"Successful:\", successful)\n",
    "    print(\"Total:\", len(samples))\n",
    "    print(\"Accuracy:\", successful / len(samples))\n"
   ]
  },
  {
   "cell_type": "code",
   "execution_count": null,
   "id": "492487e2",
   "metadata": {},
   "outputs": [
    {
     "name": "stderr",
     "output_type": "stream",
     "text": [
      "100%|██████████| 587/587 [00:47<00:00, 12.32it/s]"
     ]
    },
    {
     "name": "stdout",
     "output_type": "stream",
     "text": [
      "Successful: 215\n",
      "Total: 587\n",
      "Accuracy: 0.36626916524701875\n"
     ]
    },
    {
     "name": "stderr",
     "output_type": "stream",
     "text": [
      "\n"
     ]
    }
   ],
   "source": [
    "eval_model(model, test_dataset, 587)"
   ]
  },
  {
   "cell_type": "markdown",
   "id": "f4c00342",
   "metadata": {},
   "source": [
    "# Fine tune model"
   ]
  },
  {
   "cell_type": "code",
   "execution_count": null,
   "id": "d3356860",
   "metadata": {},
   "outputs": [],
   "source": [
    "def map_data_to_samples(dataset):\n",
    "    def expand_example(example):\n",
    "        prompt = example[\"history\"]\n",
    "        label = example[\"labels\"]\n",
    "        return {\n",
    "            \"prompt\": [prompt, prompt],\n",
    "            \"response\": [example[\"human_ref_A\"], example[\"human_ref_B\"]],\n",
    "            \"label\": [int(label == 1), int(label == 0)],\n",
    "        }\n",
    "\n",
    "    expanded = dataset.map(\n",
    "        expand_example, batched=False, remove_columns=dataset.column_names\n",
    "    )\n",
    "    flattened = Dataset.from_dict(\n",
    "        {\n",
    "            \"prompt\": sum(expanded[\"prompt\"], []),\n",
    "            \"response\": sum(expanded[\"response\"], []),\n",
    "            \"label\": sum(expanded[\"label\"], []),\n",
    "        }\n",
    "    )\n",
    "    return flattened\n"
   ]
  },
  {
   "cell_type": "code",
   "execution_count": null,
   "id": "997f6df4",
   "metadata": {},
   "outputs": [],
   "source": [
    "def tokenize_samples(dataset, tokenizer):\n",
    "    sep_token = tokenizer.sep_token\n",
    "\n",
    "    def tokenize_batch(batch):\n",
    "        combined = [\n",
    "            f\"{p} {sep_token} {r}\" for p, r in zip(batch[\"prompt\"], batch[\"response\"])\n",
    "        ]\n",
    "        tokenized = tokenizer(\n",
    "            combined, truncation=True, padding=\"max_length\", max_length=512\n",
    "        )\n",
    "        tokenized[\"label\"] = batch[\"label\"]\n",
    "        return tokenized\n",
    "\n",
    "    tokenized_dataset = dataset.map(\n",
    "        tokenize_batch, batched=True, remove_columns=dataset.column_names\n",
    "    )\n",
    "    tokenized_dataset.set_format(\n",
    "        type=\"torch\", columns=[\"input_ids\", \"attention_mask\", \"token_type_ids\", \"label\"]\n",
    "    )\n",
    "    return tokenized_dataset\n"
   ]
  },
  {
   "cell_type": "code",
   "execution_count": null,
   "id": "2c0dc062",
   "metadata": {},
   "outputs": [
    {
     "name": "stderr",
     "output_type": "stream",
     "text": [
      "\u001b[34m\u001b[1mwandb\u001b[0m: Using wandb-core as the SDK backend.  Please refer to https://wandb.me/wandb-core for more information.\n"
     ]
    },
    {
     "data": {
      "text/html": [
       "Tracking run with wandb version 0.19.6"
      ],
      "text/plain": [
       "<IPython.core.display.HTML object>"
      ]
     },
     "metadata": {},
     "output_type": "display_data"
    },
    {
     "data": {
      "text/html": [
       "Run data is saved locally in <code>/kaggle/working/NLP/Lab2/wandb/run-20250619_203851-rtw3hfa8</code>"
      ],
      "text/plain": [
       "<IPython.core.display.HTML object>"
      ]
     },
     "metadata": {},
     "output_type": "display_data"
    },
    {
     "data": {
      "text/html": [
       "Syncing run <strong><a href='https://wandb.ai/nomark-igor-sikorsky-kyiv-polytechnic-institute/nlp_lab2/runs/rtw3hfa8' target=\"_blank\">bert-finetune</a></strong> to <a href='https://wandb.ai/nomark-igor-sikorsky-kyiv-polytechnic-institute/nlp_lab2' target=\"_blank\">Weights & Biases</a> (<a href='https://wandb.me/developer-guide' target=\"_blank\">docs</a>)<br>"
      ],
      "text/plain": [
       "<IPython.core.display.HTML object>"
      ]
     },
     "metadata": {},
     "output_type": "display_data"
    },
    {
     "data": {
      "text/html": [
       " View project at <a href='https://wandb.ai/nomark-igor-sikorsky-kyiv-polytechnic-institute/nlp_lab2' target=\"_blank\">https://wandb.ai/nomark-igor-sikorsky-kyiv-polytechnic-institute/nlp_lab2</a>"
      ],
      "text/plain": [
       "<IPython.core.display.HTML object>"
      ]
     },
     "metadata": {},
     "output_type": "display_data"
    },
    {
     "data": {
      "text/html": [
       " View run at <a href='https://wandb.ai/nomark-igor-sikorsky-kyiv-polytechnic-institute/nlp_lab2/runs/rtw3hfa8' target=\"_blank\">https://wandb.ai/nomark-igor-sikorsky-kyiv-polytechnic-institute/nlp_lab2/runs/rtw3hfa8</a>"
      ],
      "text/plain": [
       "<IPython.core.display.HTML object>"
      ]
     },
     "metadata": {},
     "output_type": "display_data"
    },
    {
     "data": {
      "text/html": [
       "<button onClick=\"this.nextSibling.style.display='block';this.style.display='none';\">Display W&B run</button><iframe src='https://wandb.ai/nomark-igor-sikorsky-kyiv-polytechnic-institute/nlp_lab2/runs/rtw3hfa8?jupyter=true' style='border:none;width:100%;height:420px;display:none;'></iframe>"
      ],
      "text/plain": [
       "<wandb.sdk.wandb_run.Run at 0x7f783c6f3a50>"
      ]
     },
     "execution_count": 11,
     "metadata": {},
     "output_type": "execute_result"
    }
   ],
   "source": [
    "wandb.init(project=\"nlp_lab2\", name=\"bert-finetune\", reinit=True)\n"
   ]
  },
  {
   "cell_type": "code",
   "execution_count": 12,
   "id": "81cf6a16",
   "metadata": {},
   "outputs": [
    {
     "data": {
      "application/vnd.jupyter.widget-view+json": {
       "model_id": "065780d5f9d34479801854a16b2ab0dd",
       "version_major": 2,
       "version_minor": 0
      },
      "text/plain": [
       "Map:   0%|          | 0/7364 [00:00<?, ? examples/s]"
      ]
     },
     "metadata": {},
     "output_type": "display_data"
    },
    {
     "data": {
      "application/vnd.jupyter.widget-view+json": {
       "model_id": "a8b2c8d668f84b098b790f3d5f49ad42",
       "version_major": 2,
       "version_minor": 0
      },
      "text/plain": [
       "Map:   0%|          | 0/409 [00:00<?, ? examples/s]"
      ]
     },
     "metadata": {},
     "output_type": "display_data"
    },
    {
     "data": {
      "application/vnd.jupyter.widget-view+json": {
       "model_id": "42315e98fb3a4bdc92036137cd1cb8e1",
       "version_major": 2,
       "version_minor": 0
      },
      "text/plain": [
       "Map:   0%|          | 0/14728 [00:00<?, ? examples/s]"
      ]
     },
     "metadata": {},
     "output_type": "display_data"
    },
    {
     "data": {
      "application/vnd.jupyter.widget-view+json": {
       "model_id": "af0d826dba754bf89daf2b88e338b092",
       "version_major": 2,
       "version_minor": 0
      },
      "text/plain": [
       "Map:   0%|          | 0/818 [00:00<?, ? examples/s]"
      ]
     },
     "metadata": {},
     "output_type": "display_data"
    }
   ],
   "source": [
    "mapped_train_dataset = map_data_to_samples(train_dataset)\n",
    "mapped_val_dataset = map_data_to_samples(val_dataset)\n",
    "\n",
    "tokenized_train_dataset = tokenize_samples(mapped_train_dataset, tokenizer)\n",
    "tokenized_val_dataset = tokenize_samples(mapped_val_dataset, tokenizer)"
   ]
  },
  {
   "cell_type": "code",
   "execution_count": null,
   "id": "97633514",
   "metadata": {},
   "outputs": [
    {
     "name": "stdout",
     "output_type": "stream",
     "text": [
      "Evaluating original model before fine-tuning...\n"
     ]
    },
    {
     "data": {
      "text/html": [
       "\n",
       "    <div>\n",
       "      \n",
       "      <progress value='26' max='13' style='width:300px; height:20px; vertical-align: middle;'></progress>\n",
       "      [13/13 14:01]\n",
       "    </div>\n",
       "    "
      ],
      "text/plain": [
       "<IPython.core.display.HTML object>"
      ]
     },
     "metadata": {},
     "output_type": "display_data"
    },
    {
     "name": "stdout",
     "output_type": "stream",
     "text": [
      "Pre-tuning metrics: {'eval_loss': 0.3922080099582672, 'eval_runtime': 17.2475, 'eval_samples_per_second': 47.427, 'eval_steps_per_second': 0.754}\n",
      "Starting fine-tuning...\n"
     ]
    },
    {
     "data": {
      "text/html": [
       "\n",
       "    <div>\n",
       "      \n",
       "      <progress value='231' max='231' style='width:300px; height:20px; vertical-align: middle;'></progress>\n",
       "      [231/231 13:45, Epoch 1/1]\n",
       "    </div>\n",
       "    <table border=\"1\" class=\"dataframe\">\n",
       "  <thead>\n",
       " <tr style=\"text-align: left;\">\n",
       "      <th>Epoch</th>\n",
       "      <th>Training Loss</th>\n",
       "      <th>Validation Loss</th>\n",
       "    </tr>\n",
       "  </thead>\n",
       "  <tbody>\n",
       "    <tr>\n",
       "      <td>1</td>\n",
       "      <td>0.259000</td>\n",
       "      <td>0.250514</td>\n",
       "    </tr>\n",
       "  </tbody>\n",
       "</table><p>"
      ],
      "text/plain": [
       "<IPython.core.display.HTML object>"
      ]
     },
     "metadata": {},
     "output_type": "display_data"
    },
    {
     "name": "stdout",
     "output_type": "stream",
     "text": [
      "Fine-tuning complete. Model saved to './bert-finetuned-final'\n",
      "Evaluating fine-tuned model...\n"
     ]
    },
    {
     "data": {
      "text/html": [
       "\n",
       "    <div>\n",
       "      \n",
       "      <progress value='13' max='13' style='width:300px; height:20px; vertical-align: middle;'></progress>\n",
       "      [13/13 00:14]\n",
       "    </div>\n",
       "    "
      ],
      "text/plain": [
       "<IPython.core.display.HTML object>"
      ]
     },
     "metadata": {},
     "output_type": "display_data"
    },
    {
     "name": "stdout",
     "output_type": "stream",
     "text": [
      "Post-tuning metrics: {'eval_loss': 0.25051364302635193, 'eval_runtime': 15.8342, 'eval_samples_per_second': 51.66, 'eval_steps_per_second': 0.821, 'epoch': 1.0}\n"
     ]
    }
   ],
   "source": [
    "model.train()\n",
    "\n",
    "training_args = TrainingArguments(\n",
    "    output_dir=\"./bert-scoring\",\n",
    "    per_device_train_batch_size=32,\n",
    "    per_device_eval_batch_size=32,\n",
    "    num_train_epochs=1,\n",
    "    logging_steps=10,\n",
    "    save_strategy=\"epoch\",\n",
    "    eval_strategy=\"epoch\",\n",
    "    save_total_limit=1,\n",
    "    load_best_model_at_end=True,\n",
    "    metric_for_best_model=\"eval_loss\",\n",
    "    report_to=[\"wandb\"],\n",
    "    run_name=\"bert-finetune\",\n",
    "    # # Multi-GPU optimizations\n",
    "    fp16=True,  # Use mixed precision for better performance\n",
    "    dataloader_num_workers=4,  # Parallel data loading\n",
    ")\n",
    "\n",
    "trainer = Trainer(\n",
    "    model=model,\n",
    "    args=training_args,\n",
    "    train_dataset=tokenized_train_dataset,\n",
    "    eval_dataset=tokenized_val_dataset,\n",
    "    tokenizer=tokenizer,\n",
    ")\n",
    "\n",
    "print(\"Evaluating original model before fine-tuning...\")\n",
    "pre_tuning_metrics = trainer.evaluate()\n",
    "print(\"Pre-tuning metrics:\", pre_tuning_metrics)\n",
    "\n",
    "print(\"Starting fine-tuning...\")\n",
    "trainer.train()\n",
    "\n",
    "trainer.save_model(\"./bert-finetuned-final\")\n",
    "print(\"Fine-tuning complete. Model saved to './bert-finetuned-final'\")\n",
    "\n",
    "print(\"Evaluating fine-tuned model...\")\n",
    "post_tuning_metrics = trainer.evaluate()\n",
    "print(\"Post-tuning metrics:\", post_tuning_metrics)\n"
   ]
  },
  {
   "cell_type": "markdown",
   "id": "6a9a9b80",
   "metadata": {},
   "source": [
    "# Final eval"
   ]
  },
  {
   "cell_type": "code",
   "execution_count": null,
   "id": "0a106c2c",
   "metadata": {},
   "outputs": [
    {
     "name": "stderr",
     "output_type": "stream",
     "text": [
      "100%|██████████| 587/587 [00:47<00:00, 12.36it/s]"
     ]
    },
    {
     "name": "stdout",
     "output_type": "stream",
     "text": [
      "Successful: 329\n",
      "Total: 587\n",
      "Accuracy: 0.5604770017035775\n"
     ]
    },
    {
     "name": "stderr",
     "output_type": "stream",
     "text": [
      "\n"
     ]
    }
   ],
   "source": [
    "eval_model(model, test_dataset, 587)"
   ]
  },
  {
   "cell_type": "code",
   "execution_count": null,
   "id": "792b4ff5",
   "metadata": {},
   "outputs": [
    {
     "name": "stderr",
     "output_type": "stream",
     "text": [
      "100%|██████████| 587/587 [00:47<00:00, 12.35it/s]"
     ]
    },
    {
     "name": "stdout",
     "output_type": "stream",
     "text": [
      "Successful: 329\n",
      "Total: 587\n",
      "Accuracy: 0.5604770017035775\n"
     ]
    },
    {
     "name": "stderr",
     "output_type": "stream",
     "text": [
      "\n"
     ]
    }
   ],
   "source": [
    "if os.path.exists(\"/kaggle/working/NLP/Lab2/bert-finetuned-final\"):\n",
    "    model = BertScoringModel.from_pretrained(\n",
    "        \"/kaggle/working/NLP/Lab2/bert-finetuned-final\", local_files_only=True\n",
    "    )\n",
    "    model.to(\"cuda\" if torch.cuda.is_available() else \"cpu\")\n",
    "    model.eval()\n",
    "    eval_model(model, test_dataset, 587)"
   ]
  }
 ],
 "metadata": {
  "kernelspec": {
   "display_name": "Python 3",
   "language": "python",
   "name": "python3"
  },
  "language_info": {
   "codemirror_mode": {
    "name": "ipython",
    "version": 3
   },
   "file_extension": ".py",
   "mimetype": "text/x-python",
   "name": "python",
   "nbconvert_exporter": "python",
   "pygments_lexer": "ipython3",
   "version": "3.11.11"
  }
 },
 "nbformat": 4,
 "nbformat_minor": 5
}
