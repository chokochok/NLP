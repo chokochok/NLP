{
 "cells": [
  {
   "cell_type": "markdown",
   "id": "11498e96",
   "metadata": {},
   "source": [
    "### Imports"
   ]
  },
  {
   "cell_type": "code",
   "execution_count": 1,
   "id": "0349c2c8",
   "metadata": {},
   "outputs": [],
   "source": [
    "%%capture\n",
    "try:\n",
    "    import faiss\n",
    "except ImportError:\n",
    "    print(\"Installing faiss-cpu and unsloth...\")\n",
    "    !pip install faiss-cpu unsloth"
   ]
  },
  {
   "cell_type": "code",
   "execution_count": 2,
   "id": "291c0269",
   "metadata": {},
   "outputs": [],
   "source": [
    "import random\n",
    "\n",
    "import numpy as np\n",
    "import torch\n",
    "\n",
    "seed = 47\n",
    "random.seed(seed)\n",
    "np.random.seed(seed)\n",
    "torch.manual_seed(seed)\n",
    "if torch.cuda.is_available():\n",
    "    torch.cuda.manual_seed_all(seed)\n"
   ]
  },
  {
   "cell_type": "markdown",
   "id": "d8e13422",
   "metadata": {},
   "source": [
    "### Dataset"
   ]
  },
  {
   "cell_type": "code",
   "execution_count": 3,
   "id": "772a1884",
   "metadata": {},
   "outputs": [],
   "source": [
    "import gzip\n",
    "import os\n",
    "import shutil\n",
    "import urllib.request\n",
    "\n",
    "from tqdm import tqdm\n",
    "\n",
    "url = \"https://huggingface.co/datasets/sentence-transformers/embedding-training-data/resolve/main/yahoo_answers_question_answer.jsonl.gz\"\n",
    "\n",
    "if not os.path.exists(\"yahoo_answers_question_answer.jsonl\"):\n",
    "    urllib.request.urlretrieve(url, \"yahoo_answers_question_answer.jsonl.gz\")\n",
    "    with gzip.open(\"yahoo_answers_question_answer.jsonl.gz\", \"rb\") as f_in:\n",
    "        with open(\"yahoo_answers_question_answer.jsonl\", \"wb\") as f_out:\n",
    "            shutil.copyfileobj(f_in, f_out)\n"
   ]
  },
  {
   "cell_type": "code",
   "execution_count": 4,
   "id": "837c1a8a",
   "metadata": {},
   "outputs": [
    {
     "name": "stdout",
     "output_type": "stream",
     "text": [
      "Loaded 681164 records from the dataset.\n",
      "['long-distance trail throughout CA', 'i hear that the mojave road is amazing!<br />\\\\nsearch for it online.']\n"
     ]
    }
   ],
   "source": [
    "import json\n",
    "\n",
    "data = []\n",
    "with open(\"yahoo_answers_question_answer.jsonl\", \"r\") as f:\n",
    "    for line in f:\n",
    "        data.append(json.loads(line))\n",
    "\n",
    "print(f\"Loaded {len(data)} records from the dataset.\")\n",
    "print(data[1])"
   ]
  },
  {
   "cell_type": "code",
   "execution_count": 5,
   "id": "4a2fc920",
   "metadata": {},
   "outputs": [],
   "source": [
    "data_short = data[:300]\n",
    "data_medium = data[:1500]"
   ]
  },
  {
   "cell_type": "markdown",
   "id": "18e18d51",
   "metadata": {},
   "source": [
    "### Load models"
   ]
  },
  {
   "cell_type": "code",
   "execution_count": 6,
   "id": "11fabdc6",
   "metadata": {},
   "outputs": [
    {
     "name": "stderr",
     "output_type": "stream",
     "text": [
      "2025-06-21 13:35:12.124715: E external/local_xla/xla/stream_executor/cuda/cuda_fft.cc:477] Unable to register cuFFT factory: Attempting to register factory for plugin cuFFT when one has already been registered\n",
      "WARNING: All log messages before absl::InitializeLog() is called are written to STDERR\n",
      "E0000 00:00:1750512912.152315    3079 cuda_dnn.cc:8310] Unable to register cuDNN factory: Attempting to register factory for plugin cuDNN when one has already been registered\n",
      "E0000 00:00:1750512912.160478    3079 cuda_blas.cc:1418] Unable to register cuBLAS factory: Attempting to register factory for plugin cuBLAS when one has already been registered\n",
      "/tmp/ipykernel_3079/1333624964.py:4: UserWarning: WARNING: Unsloth should be imported before transformers, peft to ensure all optimizations are applied. Your code may run slower or encounter memory issues without these optimizations.\n",
      "\n",
      "Please restructure your imports with 'import unsloth' at the top of your file.\n",
      "  from unsloth import FastLanguageModel\n"
     ]
    },
    {
     "name": "stdout",
     "output_type": "stream",
     "text": [
      "🦥 Unsloth: Will patch your computer to enable 2x faster free finetuning.\n",
      "🦥 Unsloth Zoo will now patch everything to make training faster!\n",
      "==((====))==  Unsloth 2025.6.3: Fast Llama patching. Transformers: 4.51.3.\n",
      "   \\\\   /|    Tesla T4. Num GPUs = 2. Max memory: 14.741 GB. Platform: Linux.\n",
      "O^O/ \\_/ \\    Torch: 2.7.0+cu126. CUDA: 7.5. CUDA Toolkit: 12.6. Triton: 3.3.0\n",
      "\\        /    Bfloat16 = FALSE. FA [Xformers = 0.0.30. FA2 = False]\n",
      " \"-____-\"     Free license: http://github.com/unslothai/unsloth\n",
      "Unsloth: Fast downloading is enabled - ignore downloading bars which are red colored!\n"
     ]
    },
    {
     "name": "stderr",
     "output_type": "stream",
     "text": [
      "Device set to use cuda:1\n"
     ]
    }
   ],
   "source": [
    "import faiss\n",
    "from sentence_transformers import SentenceTransformer, util\n",
    "from transformers import pipeline\n",
    "from unsloth import FastLanguageModel\n",
    "\n",
    "gen_model, gen_tokenizer = FastLanguageModel.from_pretrained(\n",
    "    # model_name = \"unsloth/Meta-Llama-3.1-8B-Instruct\",\n",
    "    # model_name = \"unsloth/Llama-3.2-3B-Instruct\",\n",
    "    model_name=\"unsloth/Llama-3.2-1B-Instruct\",\n",
    "    # load_in_4bit = True,\n",
    "    device_map=\"cuda:0\",\n",
    ")\n",
    "\n",
    "sim_model = SentenceTransformer(\n",
    "    \"sentence-transformers/all-mpnet-base-v2\", device=\"cuda:1\"\n",
    ")\n",
    "\n",
    "retriever = SentenceTransformer(\"intfloat/e5-large-v2\", device=\"cuda:1\")\n",
    "\n",
    "summarizer = pipeline(\"summarization\", model=\"facebook/bart-large-cnn\", device=\"cuda:1\")\n"
   ]
  },
  {
   "cell_type": "markdown",
   "id": "e75faa83",
   "metadata": {},
   "source": [
    "### Utility functions for generating and processing data"
   ]
  },
  {
   "cell_type": "code",
   "execution_count": 7,
   "id": "3ba0297e",
   "metadata": {},
   "outputs": [],
   "source": [
    "def generate_response(question):\n",
    "    prompt = (\n",
    "        \"Below is an instruction that describes a task. \"\n",
    "        \"Write a response that appropriately completes the request.\\n\\n\"\n",
    "        \"### Instruction:\\nAnswer the following question concisely.\\n\\n\"\n",
    "        \"### Input:\\n\" + question.strip() + \"\\n\\n\"\n",
    "        \"### Response:\\n\"\n",
    "    )\n",
    "    inputs = gen_tokenizer(prompt, return_tensors=\"pt\").to(gen_model.device)\n",
    "    outputs = gen_model.generate(**inputs, max_new_tokens=128)\n",
    "    return (\n",
    "        gen_tokenizer.decode(outputs[0], skip_special_tokens=True)\n",
    "        .split(\"Answer:\")[-1]\n",
    "        .strip()\n",
    "    )\n",
    "\n",
    "\n",
    "def retrieve_topk(contexts, index, question, k=20):\n",
    "    query_emb = retriever.encode([question], show_progress_bar=False)\n",
    "    _, indices = index.search(np.array(query_emb), k)\n",
    "    return [contexts[i] for i in indices[0]]\n",
    "\n",
    "\n",
    "def recall_at_k(contexts, index, k):\n",
    "    hits = 0\n",
    "    for i, (q, a) in enumerate(data_medium):\n",
    "        ctxs = retrieve_topk(contexts, index, q, k)\n",
    "        if a in ctxs:\n",
    "            hits += 1\n",
    "    return hits / len(data_medium)\n",
    "\n",
    "\n",
    "def summarize_contexts(\n",
    "    contexts,\n",
    "    max_length_per_context=30,\n",
    "    min_length_per_context=10,\n",
    "    model_max_length=1024,\n",
    "    batch_size=4,\n",
    "):\n",
    "    summarized = []\n",
    "\n",
    "    for i in range(0, len(contexts), batch_size):\n",
    "        batch = contexts[i : i + batch_size]\n",
    "        batch_clean = [c.strip()[:2048] for c in batch]  # Trim long inputs\n",
    "\n",
    "        inputs = summarizer.tokenizer(\n",
    "            batch_clean,\n",
    "            return_tensors=\"pt\",\n",
    "            padding=True,\n",
    "            truncation=True,\n",
    "            max_length=model_max_length,\n",
    "        ).to(summarizer.device)\n",
    "        input_lengths = [len(x) for x in inputs[\"input_ids\"]]\n",
    "\n",
    "        summaries = []\n",
    "        for j, context in enumerate(batch_clean):\n",
    "            input_len = input_lengths[j]\n",
    "            # Dynamic max/min length for each sample\n",
    "            dyn_max = min(max_length_per_context, max(20, int(input_len * 0.4)))\n",
    "            dyn_min = min(min_length_per_context, int(dyn_max * 0.5))\n",
    "\n",
    "            if input_len < dyn_max:\n",
    "                summaries.append(context)\n",
    "            else:\n",
    "                out = summarizer(\n",
    "                    context,\n",
    "                    max_length=dyn_max,\n",
    "                    min_length=dyn_min,\n",
    "                    do_sample=False,\n",
    "                    truncation=True,\n",
    "                )[0][\"summary_text\"].strip()\n",
    "                summaries.append(out)\n",
    "\n",
    "        summarized.extend(summaries)\n",
    "\n",
    "    return summarized\n",
    "\n",
    "\n",
    "def generate_with_context(question, contexts):\n",
    "    # contexts = summarize_contexts(contexts)\n",
    "    context = \"\\n\".join(contexts)\n",
    "    prompt = (\n",
    "        \"Below is an instruction that describes a task. \"\n",
    "        \"Write a response that appropriately completes the request.\\n\\n\"\n",
    "        \"### Instruction:\\nAnswer the following question concisely. You can use provided context.\\n\\n\"\n",
    "        f\"### Input:\\nContext:\\n{context}\\n\\nQuestion: {question.strip()}\\n\\n\"\n",
    "        \"### Response:\\n\"\n",
    "    )\n",
    "    inputs = gen_tokenizer(\n",
    "        prompt, return_tensors=\"pt\", max_length=2048, truncation=True\n",
    "    ).to(gen_model.device)\n",
    "    outputs = gen_model.generate(**inputs, max_new_tokens=128)\n",
    "    return (\n",
    "        gen_tokenizer.decode(outputs[0], skip_special_tokens=True)\n",
    "        .split(\"Answer:\")[-1]\n",
    "        .strip()\n",
    "    )\n",
    "\n",
    "\n",
    "def judge_score(question, reference, generated):\n",
    "    # Encode both answers (reference and generated)\n",
    "    ref_emb = sim_model.encode(\n",
    "        reference, convert_to_tensor=True, show_progress_bar=False\n",
    "    )\n",
    "    gen_emb = sim_model.encode(\n",
    "        generated, convert_to_tensor=True, show_progress_bar=False\n",
    "    )\n",
    "\n",
    "    # Calculate semantic similarity between reference and generated answers\n",
    "    similarity = util.pytorch_cos_sim(ref_emb, gen_emb).item()\n",
    "\n",
    "    # Return [negative_score, positive_score] format\n",
    "    return [1.0 - similarity, similarity]"
   ]
  },
  {
   "cell_type": "markdown",
   "id": "23bed376",
   "metadata": {},
   "source": [
    "### Generation"
   ]
  },
  {
   "cell_type": "code",
   "execution_count": 8,
   "id": "d32a7ab0",
   "metadata": {},
   "outputs": [
    {
     "name": "stderr",
     "output_type": "stream",
     "text": [
      "100%|██████████| 300/300 [12:10<00:00,  2.43s/it]\n"
     ]
    }
   ],
   "source": [
    "FastLanguageModel.for_inference(gen_model)\n",
    "\n",
    "no_context_results = []\n",
    "\n",
    "for q, a in tqdm(data_short):\n",
    "    response = generate_response(q)\n",
    "    score = judge_score(q, a, response)\n",
    "    no_context_results.append((q, a, response, score))\n"
   ]
  },
  {
   "cell_type": "code",
   "execution_count": 9,
   "id": "775cb214",
   "metadata": {},
   "outputs": [],
   "source": [
    "contexts = [a for _, a in data_medium]  # відповіді як база знань\n",
    "\n",
    "context_embeddings = retriever.encode(\n",
    "    contexts, convert_to_numpy=True, show_progress_bar=False\n",
    ")\n",
    "index = faiss.IndexFlatL2(context_embeddings.shape[1])\n",
    "index.add(context_embeddings)\n"
   ]
  },
  {
   "cell_type": "code",
   "execution_count": 10,
   "id": "3f5f2ca0",
   "metadata": {},
   "outputs": [
    {
     "name": "stderr",
     "output_type": "stream",
     "text": [
      "100%|██████████| 300/300 [13:52<00:00,  2.78s/it]\n"
     ]
    }
   ],
   "source": [
    "FastLanguageModel.for_inference(gen_model)\n",
    "\n",
    "rag_results = []\n",
    "\n",
    "for q, a in tqdm(data_short):\n",
    "    ctxs = retrieve_topk(contexts, index, q, k=5)\n",
    "    rag_ans = generate_with_context(q, ctxs)\n",
    "    score = judge_score(q, a, rag_ans)\n",
    "    rag_results.append((q, a, rag_ans, score))\n"
   ]
  },
  {
   "cell_type": "markdown",
   "id": "c4ba436b",
   "metadata": {},
   "source": [
    "### Analize and visualize"
   ]
  },
  {
   "cell_type": "code",
   "execution_count": 11,
   "id": "f3058e06",
   "metadata": {},
   "outputs": [
    {
     "name": "stdout",
     "output_type": "stream",
     "text": [
      "Recall@5: 0.6373\n",
      "Recall@10: 0.6973\n",
      "Recall@20: 0.7527\n",
      "Recall@30: 0.7720\n"
     ]
    }
   ],
   "source": [
    "# Evaluate recall for multiple K values\n",
    "recall_values = {}\n",
    "for k in [5, 10, 20, 30]:\n",
    "    recall_values[k] = recall_at_k(contexts, index, k)\n",
    "    print(f\"Recall@{k}: {recall_values[k]:.4f}\")"
   ]
  },
  {
   "cell_type": "code",
   "execution_count": 12,
   "id": "b2b5c0a7",
   "metadata": {},
   "outputs": [
    {
     "name": "stdout",
     "output_type": "stream",
     "text": [
      "Average judge score (No Context): 0.3341\n",
      "Average judge score (RAG): 0.4165\n",
      "Improvement with RAG: 24.66%\n",
      "RAG produces better answers in 195/300 cases (65.00%)\n"
     ]
    }
   ],
   "source": [
    "# Analyze judge scores and compare no-context vs RAG answers\n",
    "import matplotlib.pyplot as plt\n",
    "import numpy as np\n",
    "\n",
    "# Extract scores from results\n",
    "no_context_scores_array = np.array([score for _, _, _, score in no_context_results])\n",
    "rag_scores_array = np.array([score for _, _, _, score in rag_results])\n",
    "\n",
    "# Calculate average scores\n",
    "avg_no_context = np.mean(no_context_scores_array[:, 1])\n",
    "avg_rag = np.mean(rag_scores_array[:, 1])\n",
    "\n",
    "print(f\"Average judge score (No Context): {avg_no_context:.4f}\")\n",
    "print(f\"Average judge score (RAG): {avg_rag:.4f}\")\n",
    "print(f\"Improvement with RAG: {(avg_rag - avg_no_context) / avg_no_context * 100:.2f}%\")\n",
    "\n",
    "# Count how many times RAG is better than no context\n",
    "better_count = sum(\n",
    "    1\n",
    "    for i in range(len(data_short))\n",
    "    if rag_scores_array[i, 1] > no_context_scores_array[i, 1]\n",
    ")\n",
    "print(\n",
    "    f\"RAG produces better answers in {better_count}/{len(data_short)} cases ({better_count / len(data_short) * 100:.2f}%)\"\n",
    ")"
   ]
  },
  {
   "cell_type": "code",
   "execution_count": 13,
   "id": "23cf4f5c",
   "metadata": {},
   "outputs": [
    {
     "data": {
      "image/png": "[encoded data removed]",
      "text/plain": [
       "<Figure size 1200x600 with 2 Axes>"
      ]
     },
     "metadata": {},
     "output_type": "display_data"
    }
   ],
   "source": [
    "# Visualize the results\n",
    "plt.figure(figsize=(12, 6))\n",
    "\n",
    "# Plot 1: Recall@K\n",
    "plt.subplot(1, 2, 1)\n",
    "plt.plot(list(recall_values.keys()), list(recall_values.values()), marker=\"o\")\n",
    "plt.xlabel(\"K value\")\n",
    "plt.ylabel(\"Recall@K\")\n",
    "plt.title(\"Retrieval Quality at Different K Values\")\n",
    "plt.grid(True)\n",
    "\n",
    "# Plot 2: Judge scores comparison\n",
    "plt.subplot(1, 2, 2)\n",
    "labels = [\"No Context\", \"RAG\"]\n",
    "scores = [avg_no_context, avg_rag]\n",
    "plt.bar(labels, scores)\n",
    "plt.ylabel(\"Average Judge Score\")\n",
    "plt.title(\"Quality Comparison: No Context vs. RAG\")\n",
    "plt.ylim(0, 1)\n",
    "\n",
    "plt.tight_layout()\n",
    "plt.show()"
   ]
  },
  {
   "cell_type": "code",
   "execution_count": 14,
   "id": "55dc1a09",
   "metadata": {},
   "outputs": [
    {
     "name": "stdout",
     "output_type": "stream",
     "text": [
      "Examples where RAG significantly improved the answer:\n",
      "\n",
      "Question: the prices of rent and the price of buying does not make sense to me, mostly the rent will not cover the mortgage . Is it better to rent a house or to buy?\n",
      "Reference Answer: renting vs buying depends on your goals. <br />\\ngenerally thinking is that buying is better b/c the payments that would go into the rent start building equity in your home. the govt also incentivizes you to buy by making your property tax payments and mortgage interest payments tax deductible.\\nhaving said that current housing status in the bay area is such that housing cost to purchase is relatively high and rental prices (compared to ownership cost) are relatively low (relative to the rest of the country). it makes lese sense to buy vs. other places.\\nbottom line you should base your decision on whether you think the market will keep going up or not. the other numbers tend to even out, the main gain or loss in buying comes from appreciation/depreciation.\n",
      "No Context Answer: Below is an instruction that describes a task. Write a response that appropriately completes the request.\n",
      "\n",
      "### Instruction:\n",
      "Answer the following question concisely.\n",
      "\n",
      "### Input:\n",
      "the prices of rent and the price of buying does not make sense to me, mostly the rent will not cover the mortgage. Is it better to rent a house or to buy?\n",
      "\n",
      "### Response:\n",
      "It's generally better to buy a house, as the mortgage payments can help cover the cost of rent, which may not be sufficient to pay off the mortgage. Renting may be more expensive than buying, as the mortgage payments are typically lower than the rent. Additionally, buying a house can provide long-term financial benefits such as building equity and potentially a tax deduction. It's always a good idea to consult with a financial advisor for personalized advice.\n",
      "RAG Answer: Below is an instruction that describes a task. Write a response that appropriately completes the request.\n",
      "\n",
      "### Instruction:\n",
      "Answer the following question concisely. You can use provided context.\n",
      "\n",
      "### Input:\n",
      "Context:\n",
      "renting vs buying depends on your goals. <br />\\ngenerally thinking is that buying is better b/c the payments that would go into the rent start building equity in your home. the govt also incentivizes you to buy by making your property tax payments and mortgage interest payments tax deductible.\\nhaving said that current housing status in the bay area is such that housing cost to purchase is relatively high and rental prices (compared to ownership cost) are relatively low (relative to the rest of the country). it makes lese sense to buy vs. other places.\\nbottom line you should base your decision on whether you think the market will keep going up or not. the other numbers tend to even out, the main gain or loss in buying comes from appreciation/depreciation.\n",
      "It depends on what you mean by \"save a lot of money\".  If you are trying to save money over a period of time, it depends.  Over the long haul you might save money by buying, since you'll end up owning the property and could sell it and recover your investment.  You might even make money by buying if you live in an area where the property value is likely to go up over the period of time you might live there.\\n\\nIf you're trying to save money on a monthly basis, renting is usually cheaper, unless a) you might rent out one or more rooms, thus off-setting your out-of-pocket monthly expenses, or b) you can afford to put down a large down-payment.\\n\\nLiving in a high-cost area myself, I say \"buy\" if you can afford it.  If nothing else you can go to town on decorating or remodeling, something you can't usually do when you rent.\n",
      "1. Proof of income - steady is better\\n2. Proof of having other assets, that can guarantee the loan - banck accounts, car, house\\n3. Proof that you have good history about making payments on time (this gets reflected in your credit score).\n",
      "it depends on where you are in the country and how much education you have. the numbers are aggregated so its over all markets and industries. so if you are in an industry that isnt growing then you need to look elsewhere.\n",
      "I just asked myself this question a couple of months ago. I ran a spread sheet with a side by side comparison of my 6 1/2% 30 year mortgage versus an equal dollar amount invested at 5% for the same term. You would expect to save quite a bit paying off the debt but you actuality save by keeping the mortgage.\n",
      "\n",
      "Question: the prices of rent and the price of buying does not make sense to me, mostly the rent will not cover the mortgage. Is it better to rent a house or to buy?\n",
      "\n",
      "### Response:\n",
      "Based on the provided context, it appears that the individual is considering the pros and cons of renting versus buying a house. The individual has thought through the long-term implications of owning a home, including the potential for appreciation and depreciation, and has weighed the costs of renting against the costs of buying. However, the individual still seems to be leaning towards renting, citing the following reasons:\n",
      "\n",
      "1. Proof of income - steady is better: The individual believes that having a steady income is more important than the price of the house.\n",
      "2. Proof of having other assets: The individual thinks that having other assets, such as a car or a house,\n",
      "No Context Score: 0.3567\n",
      "RAG Score: 0.7042\n",
      "Improvement: 0.3475\n",
      "--------------------------------------------------------------------------------\n",
      "\n",
      "Question: would we be able to fax a pizza in the future? How far are we from creating a machine that can beam people from one place to another?\n",
      "Reference Answer: We're pretty far away from being able to beam anything in the way that you are describing.  There are some experiments where splitting entangled electrons allows us to observe some interesting 'action at a distance' effects, but the amount of data that would need to be stored to transmit something with as many atoms as a pizza is incredible.  Also, such an operation would require nano-assemblers that could interpret such data an reassemble the pizza from the info provided.\n",
      "No Context Answer: Below is an instruction that describes a task. Write a response that appropriately completes the request.\n",
      "\n",
      "### Instruction:\n",
      "Answer the following question concisely.\n",
      "\n",
      "### Input:\n",
      "would we be able to fax a pizza in the future? How far are we from creating a machine that can beam people from one place to another?\n",
      "\n",
      "### Response:\n",
      "While we can fax a pizza, we are not yet close to creating a machine that can beam people from one place to another. Currently, the technology to be able to teleport people or objects from one location to another is still in the realm of science fiction. However, advancements in fields like quantum computing and artificial intelligence are being made, which may one day lead to the development of such technology. For now, we can still enjoy the convenience of faxing a pizza, but it's not a viable option for intercontinental travel.\n",
      "RAG Answer: Below is an instruction that describes a task. Write a response that appropriately completes the request.\n",
      "\n",
      "### Instruction:\n",
      "Answer the following question concisely. You can use provided context.\n",
      "\n",
      "### Input:\n",
      "Context:\n",
      "We're pretty far away from being able to beam anything in the way that you are describing.  There are some experiments where splitting entangled electrons allows us to observe some interesting 'action at a distance' effects, but the amount of data that would need to be stored to transmit something with as many atoms as a pizza is incredible.  Also, such an operation would require nano-assemblers that could interpret such data an reassemble the pizza from the info provided.\n",
      "3 months dude... pick someones answer already...\n",
      "Hey, just bringing this old question up for a vote. \\n\\nIf you have not found the answer you are looking for, please, feel free to use one of the following links from my personal collection:\\n\\nhttp://www.dogpile.com\\nhttp://www.itools.com/\\nhttp://en.wikipedia.org/wiki/Main_Page\\nhttp://www.dictionary.com\\nhttp://www.thefreedictionary.com/\\nhttp://www.medterms.com/script/main/hp.asp\\nhttp://www.alexa.com\\nhttp://www.searchtools.com/tools/tools.html\\nhttp://www.infopeople.org/search/chart.html\\nhttp://www.brbpub.com/pubrecsites.asp\\nhttp://www.searchsystems.net/\\nhttp://library.albany.edu/internet/choose.html\\nhttp://www.archive.org/\\nhttp://www.publicnoticeads.com/\\nhttp://www.samspade.org\\nhttp://www.free-ed.net/free-ed/ \\nhttp://www.hplearningcenter.com \\nhttp://www.petfinder.com/\\nhttp://www.findlaw.com\\nhttp://www.rxlist.com\\nhttp://www.webmd.com\\nhttp://www.truthorfiction.com\\nhttp://www.salary.com\\nhttp://www.songlyrics.com/\\n\\nMy post is simply to encourage you to pick a \"Best Answer\" or to assist you in finding the answer. \\n\\nThank you!\n",
      "Hey, just bringing this old question up for a vote. \\n\\nIf you have not found the answer you are looking for, please, feel free to use one of the following links from my personal collection:\\n\\nhttp://www.dogpile.com\\nhttp://www.itools.com/\\nhttp://en.wikipedia.org/wiki/Main_Page\\nhttp://www.dictionary.com\\nhttp://www.thefreedictionary.com/\\nhttp://www.medterms.com/script/main/hp.asp\\nhttp://www.alexa.com\\nhttp://www.searchtools.com/tools/tools.html\\nhttp://www.infopeople.org/search/chart.html\\nhttp://www.brbpub.com/pubrecsites.asp\\nhttp://www.searchsystems.net/\\nhttp://library.albany.edu/internet/choose.html\\nhttp://www.archive.org/\\nhttp://www.publicnoticeads.com/\\nhttp://www.samspade.org\\nhttp://www.free-ed.net/free-ed/ \\nhttp://www.hplearningcenter.com \\nhttp://www.petfinder.com/\\nhttp://www.findlaw.com\\nhttp://www.rxlist.com\\nhttp://www.webmd.com\\nhttp://www.truthorfiction.com\\nhttp://www.salary.com\\nhttp://www.songlyrics.com/\\n\\nMy post is simply to encourage you to pick a \"Best Answer\" or to assist you in finding the answer. \\n\\nThank you!\n",
      "I'm not sure exactly but del.icio.us has figured out the tagging equation; maybe something there.  It would be really neat to see some sort of incorporation of del.icio.us into MyYahoo, maybe some sort of ajax widget deal.\n",
      "\n",
      "Question: would we be able to fax a pizza in the future? How far are we from creating a machine that can beam people from one place to another?\n",
      "\n",
      "### Response:\n",
      "I'm not sure exactly but del.icio.us has figured out the tagging equation; maybe something there.  It would be really neat to see some sort of incorporation of del.icio.us into MyYahoo, maybe some sort of ajax widget deal.\n",
      "\n",
      "We're not quite there yet in terms of creating a machine that can beam people from one place to another. However, there are some experiments being conducted where entangled electrons are being split and used to transmit information. While this is an exciting area of research, it's still in its infancy and we're far from being able to beam people or objects from one place to another.\n",
      "\n",
      "That being\n",
      "No Context Score: 0.3612\n",
      "RAG Score: 0.8197\n",
      "Improvement: 0.4585\n",
      "--------------------------------------------------------------------------------\n",
      "\n",
      "Question: Can we capture light in a container? Will it run and shine forever? What kind of internal material we should use in order to do that?\n",
      "Reference Answer: So the answer to your specific question is 'no'.  The problem is that if the container shines, it means that light and energy is being lost and will eventually run out.  There are materials that will glow for a long time due to radioactive decay or via chemical processes, but all of these are using up their 'fuel' in the process and will eventually run out.\\nSome radioactive substances have a pretty long half-life and will appear to glow steadily without much decay over the scale of a human lifetime.\\nNow, to get more generalized... it is possible to trap light in a container that doesn't shine. Scientists have been able to free light in its place using supercooled clouds of sodium which are naturally opaque, but can temporarily transmit light when altered via a laser beam.  If the laser is shut off, a light beam that is passing through the cloud will be temporarily frozen in place.  Australian scientists have recently been able to extend this interaction to be nearly as long as a second.\\nOnce the laser is reintroduced the beam is recovered and continues on its way.  Now all this is a little debatable, since the photons actually get temporarily swallowed up by the material.  The photons that come out afterwards have the same configuration and quantum state as what went in, but whether they are exactly the same photons is more of a question for philosophy than for physics.\n",
      "No Context Answer: Below is an instruction that describes a task. Write a response that appropriately completes the request.\n",
      "\n",
      "### Instruction:\n",
      "Answer the following question concisely.\n",
      "\n",
      "### Input:\n",
      "Can we capture light in a container? Will it run and shine forever? What kind of internal material we should use in order to do that?\n",
      "\n",
      "### Response:\n",
      "Capturing light in a container is theoretically possible, but it would require a very specific setup. The container would need to be made of a material with a high refractive index, such as glass or a transparent plastic. To capture light, the container would need to be designed to reflect the light back into the container, and then to store the reflected light. This could be achieved using a prism or a lens system. However, it's unlikely that the container would run and shine forever, as it would eventually be affected by external factors such as temperature, humidity, and light exposure. Additionally, capturing light in a container is not a practical\n",
      "RAG Answer: Below is an instruction that describes a task. Write a response that appropriately completes the request.\n",
      "\n",
      "### Instruction:\n",
      "Answer the following question concisely. You can use provided context.\n",
      "\n",
      "### Input:\n",
      "Context:\n",
      "So the answer to your specific question is 'no'.  The problem is that if the container shines, it means that light and energy is being lost and will eventually run out.  There are materials that will glow for a long time due to radioactive decay or via chemical processes, but all of these are using up their 'fuel' in the process and will eventually run out.\\nSome radioactive substances have a pretty long half-life and will appear to glow steadily without much decay over the scale of a human lifetime.\\nNow, to get more generalized... it is possible to trap light in a container that doesn't shine. Scientists have been able to free light in its place using supercooled clouds of sodium which are naturally opaque, but can temporarily transmit light when altered via a laser beam.  If the laser is shut off, a light beam that is passing through the cloud will be temporarily frozen in place.  Australian scientists have recently been able to extend this interaction to be nearly as long as a second.\\nOnce the laser is reintroduced the beam is recovered and continues on its way.  Now all this is a little debatable, since the photons actually get temporarily swallowed up by the material.  The photons that come out afterwards have the same configuration and quantum state as what went in, but whether they are exactly the same photons is more of a question for philosophy than for physics.\n",
      "Materials that form an inverse energy distribution?  Not quite.\\n\\nThere are three basic components for getting a laser to work.  First, one needs an excitation source (pumping source) such as a flashlamp, an electrical spark, etc.  Second, one needs a material (the gain medium) which can exhibit what's known as population inversion - the capacity for a material to raise the electron energy level from the lower to the upper energy states.  Nearly all materials will exhibit this behavior with some more efficiently than others.  Finally, one needs to direct the stimulated energy by using a resonator.\\n\\nThere are many combinations of pump sources, lasing materials and optical configurations depending on the intended use.  There are solid state (ruby, Nd:YAG), gas (nitrogen, helium-neon) and semiconductor (gallium-arsenide) lasers that come in a variety of wavelengths (colors) to choose from, again, depending on what you want to do with it.\\n\\nJust a little bit of background: My degree is in Physics, and I've been working in the lasers and electro-optics field for the past 10+ years.  You can see what my graduate lab at SDSU looked like at: http://www.equationlab.com/mtp/quantumblog/about.html\n",
      "I have never used one but backlight boxes are available on the net to project light through the negative and give a proper picture to the scanner\n",
      "Light has nothing to do with space. It is a property of the electromagnetic field when this field is undergoing changes. from its point of origin, this field radiates out into space in all directions. It is invisible, but can be felt by charged particles. When this field is changed, for instance by suddenly altering the position of its emitter, a kink develops in the field which propagates out into space at the speed of light. Under the right circumstances of acceleration, this kink becomes electromagnetic radiation - light. So space simply acts as a passive container for the electromagnetic field, which in turn is the'medium' in which light exists.\n",
      "Quoted:\\n\\nVortex flows show the sensitivity of water to external forces. The speed of movement of water in a vortex has a rhythm of its own; it extends and contracts in a rhythmic pulsation. The vortex is really composed of a series of flowing surfaces (like the ropes) all binding together as if by an invisible hand.\\n\\nThese flowing surfaces move at different speeds, slow on the outside and fast on the inside. The speed of movement of water in a vortex multiplied by the radius from the center is a constant. This means that forces in a perfect vortex approach infinity the hydrogen bonds of the water molecule cannot sustain the pressure difference and begin to stretch and weaken releasing powerful forces.\\n\\n....continued....\\nWhen structured waters are made properly they are of immense benefit. Research has led to a number of other exciting discoveries relating to the benefits of structured waters upon the living system. These waters act as mineral carriers and more efficient nutrient transporters. Preliminary tests with cut flowers and other plants have shown a 400% increase in water and nutrient uptake when watered with structured water as opposed to the control group, which was watered with distilled water. What is true for plants may as well be true for animals. Preliminary experiments with vitamins and herbal extracts show a definite increase in absorption. Riboflavin, vitamin B12 is an easy vitamin to measure in urine. Testing with riboflavin has shown an increased absorption of 500% when taken with colloidal water versus distilled water.\\n\\nPlease refer to the site listed below:\n",
      "\n",
      "Question: Can we capture light in a container? Will it run and shine forever? What kind of internal material we should use in order to do that?\n",
      "\n",
      "### Response:\n",
      "We can capture light in a container by creating a material that can trap light in a way that doesn't shine. This is actually a very simple concept. A material that can trap light is called a \"population inversion\" material. This is a material that can raise the electron energy level from the lower to the upper energy states, allowing light to be trapped. We need to use a material that can exhibit this behavior, such as a solid or a liquid.\n",
      "\n",
      "We can use a material called sodium to create a population inversion. Sodium is a metal that can be used to create a supercooled cloud of sodium. When we shine a laser\n",
      "No Context Score: 0.4855\n",
      "RAG Score: 0.8774\n",
      "Improvement: 0.3919\n",
      "--------------------------------------------------------------------------------\n"
     ]
    }
   ],
   "source": [
    "# Show examples of improvements\n",
    "print(\"Examples where RAG significantly improved the answer:\")\n",
    "shown = 0\n",
    "for i in range(len(data_short)):\n",
    "    improvement = rag_scores_array[i, 1] - no_context_scores_array[i, 1]\n",
    "    if improvement > 0.3:\n",
    "        print(f\"\\nQuestion: {data_short[i][0]}\")\n",
    "        print(f\"Reference Answer: {data_short[i][1]}\")\n",
    "        print(f\"No Context Answer: {no_context_results[i][2]}\")\n",
    "        print(f\"RAG Answer: {rag_results[i][2]}\")\n",
    "        print(f\"No Context Score: {no_context_scores_array[i, 1]:.4f}\")\n",
    "        print(f\"RAG Score: {rag_scores_array[i, 1]:.4f}\")\n",
    "        print(f\"Improvement: {improvement:.4f}\")\n",
    "        print(\"-\" * 80)\n",
    "        shown += 1\n",
    "        if shown >= 3:\n",
    "            break"
   ]
  }
 ],
 "metadata": {
  "kernelspec": {
   "display_name": "Python 3",
   "language": "python",
   "name": "python3"
  },
  "language_info": {
   "codemirror_mode": {
    "name": "ipython",
    "version": 3
   },
   "file_extension": ".py",
   "mimetype": "text/x-python",
   "name": "python",
   "nbconvert_exporter": "python",
   "pygments_lexer": "ipython3",
   "version": "3.11.11"
  }
 },
 "nbformat": 4,
 "nbformat_minor": 5
}
