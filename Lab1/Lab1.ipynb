{
 "cells": [
  {
   "cell_type": "code",
   "execution_count": null,
   "metadata": {
    "_cell_guid": "b1076dfc-b9ad-4769-8c92-a6c4dae69d19",
    "_uuid": "8f2839f25d086af736a60e9eeb907d3b93b6e0e5",
    "execution": {
     "iopub.execute_input": "2025-06-18T16:29:51.533951Z",
     "iopub.status.busy": "2025-06-18T16:29:51.533677Z",
     "iopub.status.idle": "2025-06-18T16:29:51.817606Z",
     "shell.execute_reply": "2025-06-18T16:29:51.816857Z",
     "shell.execute_reply.started": "2025-06-18T16:29:51.533929Z"
    },
    "trusted": true
   },
   "outputs": [
    {
     "name": "stdout",
     "output_type": "stream",
     "text": [
      "/kaggle/input/google-quest-challenge/sample_submission.csv\n",
      "/kaggle/input/google-quest-challenge/train.csv\n",
      "/kaggle/input/google-quest-challenge/test.csv\n",
      "/kaggle/input/bert-base-uncased-offline/pytorch/default/1/bert-base-uncased-offline/config.json\n",
      "/kaggle/input/bert-base-uncased-offline/pytorch/default/1/bert-base-uncased-offline/tokenizer_config.json\n",
      "/kaggle/input/bert-base-uncased-offline/pytorch/default/1/bert-base-uncased-offline/model.safetensors\n",
      "/kaggle/input/bert-base-uncased-offline/pytorch/default/1/bert-base-uncased-offline/special_tokens_map.json\n",
      "/kaggle/input/bert-base-uncased-offline/pytorch/default/1/bert-base-uncased-offline/vocab.txt\n",
      "/kaggle/input/lab1_model/pytorch/default/1/quest_model.bin\n"
     ]
    }
   ],
   "source": [
    "# This Python 3 environment comes with many helpful analytics libraries installed\n",
    "# It is defined by the kaggle/python Docker image: https://github.com/kaggle/docker-python\n",
    "# For example, here's several helpful packages to load\n",
    "\n",
    "# Input data files are available in the read-only \"../input/\" directory\n",
    "# For example, running this (by clicking run or pressing Shift+Enter) will list all files under the input directory\n",
    "import os\n",
    "\n",
    "import numpy as np  # linear algebra\n",
    "import pandas as pd  # data processing, CSV file I/O (e.g. pd.read_csv)\n",
    "\n",
    "for dirname, _, filenames in os.walk(\"/kaggle/input\"):\n",
    "    for filename in filenames:\n",
    "        print(os.path.join(dirname, filename))\n",
    "\n",
    "# You can write up to 20GB to the current directory (/kaggle/working/) that gets preserved as output when you create a version using \"Save & Run All\"\n",
    "# You can also write temporary files to /kaggle/temp/, but they won't be saved outside of the current session"
   ]
  },
  {
   "cell_type": "code",
   "execution_count": 2,
   "metadata": {
    "execution": {
     "iopub.execute_input": "2025-06-18T16:29:51.819134Z",
     "iopub.status.busy": "2025-06-18T16:29:51.818802Z",
     "iopub.status.idle": "2025-06-18T16:29:51.822963Z",
     "shell.execute_reply": "2025-06-18T16:29:51.822280Z",
     "shell.execute_reply.started": "2025-06-18T16:29:51.819116Z"
    },
    "trusted": true
   },
   "outputs": [],
   "source": [
    "offline = True"
   ]
  },
  {
   "cell_type": "markdown",
   "metadata": {},
   "source": [
    "# install and import library"
   ]
  },
  {
   "cell_type": "code",
   "execution_count": null,
   "metadata": {
    "execution": {
     "iopub.execute_input": "2025-06-18T16:29:51.823933Z",
     "iopub.status.busy": "2025-06-18T16:29:51.823661Z",
     "iopub.status.idle": "2025-06-18T16:30:15.226682Z",
     "shell.execute_reply": "2025-06-18T16:30:15.226130Z",
     "shell.execute_reply.started": "2025-06-18T16:29:51.823906Z"
    },
    "trusted": true
   },
   "outputs": [
    {
     "name": "stderr",
     "output_type": "stream",
     "text": [
      "2025-06-18 16:30:04.651796: E external/local_xla/xla/stream_executor/cuda/cuda_fft.cc:477] Unable to register cuFFT factory: Attempting to register factory for plugin cuFFT when one has already been registered\n",
      "WARNING: All log messages before absl::InitializeLog() is called are written to STDERR\n",
      "E0000 00:00:1750264204.794872      35 cuda_dnn.cc:8310] Unable to register cuDNN factory: Attempting to register factory for plugin cuDNN when one has already been registered\n",
      "E0000 00:00:1750264204.840108      35 cuda_blas.cc:1418] Unable to register cuBLAS factory: Attempting to register factory for plugin cuBLAS when one has already been registered\n"
     ]
    }
   ],
   "source": [
    "import pandas as pd\n",
    "import torch\n",
    "import torch.nn as nn\n",
    "from sklearn.model_selection import train_test_split\n",
    "from torch.optim import AdamW\n",
    "from torch.utils.data import DataLoader, Dataset\n",
    "from tqdm import tqdm\n",
    "from transformers import (\n",
    "    BertConfig,\n",
    "    BertModel,\n",
    "    BertTokenizer,\n",
    "    get_linear_schedule_with_warmup,\n",
    ")"
   ]
  },
  {
   "cell_type": "markdown",
   "metadata": {},
   "source": [
    "# import data"
   ]
  },
  {
   "cell_type": "code",
   "execution_count": null,
   "metadata": {
    "execution": {
     "iopub.execute_input": "2025-06-18T16:30:15.228611Z",
     "iopub.status.busy": "2025-06-18T16:30:15.228130Z",
     "iopub.status.idle": "2025-06-18T16:30:15.601362Z",
     "shell.execute_reply": "2025-06-18T16:30:15.600725Z",
     "shell.execute_reply.started": "2025-06-18T16:30:15.228589Z"
    },
    "trusted": true
   },
   "outputs": [],
   "source": [
    "df = pd.read_csv(\"/kaggle/input/google-quest-challenge/train.csv\")"
   ]
  },
  {
   "cell_type": "code",
   "execution_count": 5,
   "metadata": {
    "execution": {
     "iopub.execute_input": "2025-06-18T16:30:15.602293Z",
     "iopub.status.busy": "2025-06-18T16:30:15.602021Z",
     "iopub.status.idle": "2025-06-18T16:30:15.634542Z",
     "shell.execute_reply": "2025-06-18T16:30:15.633827Z",
     "shell.execute_reply.started": "2025-06-18T16:30:15.602264Z"
    },
    "trusted": true
   },
   "outputs": [
    {
     "data": {
      "text/html": [
       "<div>\n",
       "<style scoped>\n",
       "    .dataframe tbody tr th:only-of-type {\n",
       "        vertical-align: middle;\n",
       "    }\n",
       "\n",
       "    .dataframe tbody tr th {\n",
       "        vertical-align: top;\n",
       "    }\n",
       "\n",
       "    .dataframe thead th {\n",
       "        text-align: right;\n",
       "    }\n",
       "</style>\n",
       "<table border=\"1\" class=\"dataframe\">\n",
       "  <thead>\n",
       "    <tr style=\"text-align: right;\">\n",
       "      <th></th>\n",
       "      <th>qa_id</th>\n",
       "      <th>question_title</th>\n",
       "      <th>question_body</th>\n",
       "      <th>question_user_name</th>\n",
       "      <th>question_user_page</th>\n",
       "      <th>answer</th>\n",
       "      <th>answer_user_name</th>\n",
       "      <th>answer_user_page</th>\n",
       "      <th>url</th>\n",
       "      <th>category</th>\n",
       "      <th>...</th>\n",
       "      <th>question_well_written</th>\n",
       "      <th>answer_helpful</th>\n",
       "      <th>answer_level_of_information</th>\n",
       "      <th>answer_plausible</th>\n",
       "      <th>answer_relevance</th>\n",
       "      <th>answer_satisfaction</th>\n",
       "      <th>answer_type_instructions</th>\n",
       "      <th>answer_type_procedure</th>\n",
       "      <th>answer_type_reason_explanation</th>\n",
       "      <th>answer_well_written</th>\n",
       "    </tr>\n",
       "  </thead>\n",
       "  <tbody>\n",
       "    <tr>\n",
       "      <th>0</th>\n",
       "      <td>0</td>\n",
       "      <td>What am I losing when using extension tubes in...</td>\n",
       "      <td>After playing around with macro photography on...</td>\n",
       "      <td>ysap</td>\n",
       "      <td>https://photo.stackexchange.com/users/1024</td>\n",
       "      <td>I just got extension tubes, so here's the skin...</td>\n",
       "      <td>rfusca</td>\n",
       "      <td>https://photo.stackexchange.com/users/1917</td>\n",
       "      <td>http://photo.stackexchange.com/questions/9169/...</td>\n",
       "      <td>LIFE_ARTS</td>\n",
       "      <td>...</td>\n",
       "      <td>1.000000</td>\n",
       "      <td>1.000000</td>\n",
       "      <td>0.666667</td>\n",
       "      <td>1.000000</td>\n",
       "      <td>1.000000</td>\n",
       "      <td>0.800000</td>\n",
       "      <td>1.0</td>\n",
       "      <td>0.000000</td>\n",
       "      <td>0.000000</td>\n",
       "      <td>1.000000</td>\n",
       "    </tr>\n",
       "    <tr>\n",
       "      <th>1</th>\n",
       "      <td>1</td>\n",
       "      <td>What is the distinction between a city and a s...</td>\n",
       "      <td>I am trying to understand what kinds of places...</td>\n",
       "      <td>russellpierce</td>\n",
       "      <td>https://rpg.stackexchange.com/users/8774</td>\n",
       "      <td>It might be helpful to look into the definitio...</td>\n",
       "      <td>Erik Schmidt</td>\n",
       "      <td>https://rpg.stackexchange.com/users/1871</td>\n",
       "      <td>http://rpg.stackexchange.com/questions/47820/w...</td>\n",
       "      <td>CULTURE</td>\n",
       "      <td>...</td>\n",
       "      <td>0.888889</td>\n",
       "      <td>0.888889</td>\n",
       "      <td>0.555556</td>\n",
       "      <td>0.888889</td>\n",
       "      <td>0.888889</td>\n",
       "      <td>0.666667</td>\n",
       "      <td>0.0</td>\n",
       "      <td>0.000000</td>\n",
       "      <td>0.666667</td>\n",
       "      <td>0.888889</td>\n",
       "    </tr>\n",
       "    <tr>\n",
       "      <th>2</th>\n",
       "      <td>2</td>\n",
       "      <td>Maximum protusion length for through-hole comp...</td>\n",
       "      <td>I'm working on a PCB that has through-hole com...</td>\n",
       "      <td>Joe Baker</td>\n",
       "      <td>https://electronics.stackexchange.com/users/10157</td>\n",
       "      <td>Do you even need grooves?  We make several pro...</td>\n",
       "      <td>Dwayne Reid</td>\n",
       "      <td>https://electronics.stackexchange.com/users/64754</td>\n",
       "      <td>http://electronics.stackexchange.com/questions...</td>\n",
       "      <td>SCIENCE</td>\n",
       "      <td>...</td>\n",
       "      <td>0.777778</td>\n",
       "      <td>0.777778</td>\n",
       "      <td>0.555556</td>\n",
       "      <td>1.000000</td>\n",
       "      <td>1.000000</td>\n",
       "      <td>0.666667</td>\n",
       "      <td>0.0</td>\n",
       "      <td>0.333333</td>\n",
       "      <td>1.000000</td>\n",
       "      <td>0.888889</td>\n",
       "    </tr>\n",
       "    <tr>\n",
       "      <th>3</th>\n",
       "      <td>3</td>\n",
       "      <td>Can an affidavit be used in Beit Din?</td>\n",
       "      <td>An affidavit, from what i understand, is basic...</td>\n",
       "      <td>Scimonster</td>\n",
       "      <td>https://judaism.stackexchange.com/users/5151</td>\n",
       "      <td>Sending an \"affidavit\" it is a dispute between...</td>\n",
       "      <td>Y     e     z</td>\n",
       "      <td>https://judaism.stackexchange.com/users/4794</td>\n",
       "      <td>http://judaism.stackexchange.com/questions/551...</td>\n",
       "      <td>CULTURE</td>\n",
       "      <td>...</td>\n",
       "      <td>0.888889</td>\n",
       "      <td>0.833333</td>\n",
       "      <td>0.333333</td>\n",
       "      <td>0.833333</td>\n",
       "      <td>1.000000</td>\n",
       "      <td>0.800000</td>\n",
       "      <td>0.0</td>\n",
       "      <td>0.000000</td>\n",
       "      <td>1.000000</td>\n",
       "      <td>1.000000</td>\n",
       "    </tr>\n",
       "    <tr>\n",
       "      <th>4</th>\n",
       "      <td>5</td>\n",
       "      <td>How do you make a binary image in Photoshop?</td>\n",
       "      <td>I am trying to make a binary image. I want mor...</td>\n",
       "      <td>leigero</td>\n",
       "      <td>https://graphicdesign.stackexchange.com/users/...</td>\n",
       "      <td>Check out Image Trace in Adobe Illustrator. \\n...</td>\n",
       "      <td>q2ra</td>\n",
       "      <td>https://graphicdesign.stackexchange.com/users/...</td>\n",
       "      <td>http://graphicdesign.stackexchange.com/questio...</td>\n",
       "      <td>LIFE_ARTS</td>\n",
       "      <td>...</td>\n",
       "      <td>1.000000</td>\n",
       "      <td>1.000000</td>\n",
       "      <td>0.666667</td>\n",
       "      <td>1.000000</td>\n",
       "      <td>1.000000</td>\n",
       "      <td>0.800000</td>\n",
       "      <td>1.0</td>\n",
       "      <td>0.000000</td>\n",
       "      <td>1.000000</td>\n",
       "      <td>1.000000</td>\n",
       "    </tr>\n",
       "  </tbody>\n",
       "</table>\n",
       "<p>5 rows × 41 columns</p>\n",
       "</div>"
      ],
      "text/plain": [
       "   qa_id                                     question_title  \\\n",
       "0      0  What am I losing when using extension tubes in...   \n",
       "1      1  What is the distinction between a city and a s...   \n",
       "2      2  Maximum protusion length for through-hole comp...   \n",
       "3      3              Can an affidavit be used in Beit Din?   \n",
       "4      5       How do you make a binary image in Photoshop?   \n",
       "\n",
       "                                       question_body question_user_name  \\\n",
       "0  After playing around with macro photography on...               ysap   \n",
       "1  I am trying to understand what kinds of places...      russellpierce   \n",
       "2  I'm working on a PCB that has through-hole com...          Joe Baker   \n",
       "3  An affidavit, from what i understand, is basic...         Scimonster   \n",
       "4  I am trying to make a binary image. I want mor...            leigero   \n",
       "\n",
       "                                  question_user_page  \\\n",
       "0         https://photo.stackexchange.com/users/1024   \n",
       "1           https://rpg.stackexchange.com/users/8774   \n",
       "2  https://electronics.stackexchange.com/users/10157   \n",
       "3       https://judaism.stackexchange.com/users/5151   \n",
       "4  https://graphicdesign.stackexchange.com/users/...   \n",
       "\n",
       "                                              answer answer_user_name  \\\n",
       "0  I just got extension tubes, so here's the skin...           rfusca   \n",
       "1  It might be helpful to look into the definitio...     Erik Schmidt   \n",
       "2  Do you even need grooves?  We make several pro...      Dwayne Reid   \n",
       "3  Sending an \"affidavit\" it is a dispute between...    Y     e     z   \n",
       "4  Check out Image Trace in Adobe Illustrator. \\n...             q2ra   \n",
       "\n",
       "                                    answer_user_page  \\\n",
       "0         https://photo.stackexchange.com/users/1917   \n",
       "1           https://rpg.stackexchange.com/users/1871   \n",
       "2  https://electronics.stackexchange.com/users/64754   \n",
       "3       https://judaism.stackexchange.com/users/4794   \n",
       "4  https://graphicdesign.stackexchange.com/users/...   \n",
       "\n",
       "                                                 url   category  ...  \\\n",
       "0  http://photo.stackexchange.com/questions/9169/...  LIFE_ARTS  ...   \n",
       "1  http://rpg.stackexchange.com/questions/47820/w...    CULTURE  ...   \n",
       "2  http://electronics.stackexchange.com/questions...    SCIENCE  ...   \n",
       "3  http://judaism.stackexchange.com/questions/551...    CULTURE  ...   \n",
       "4  http://graphicdesign.stackexchange.com/questio...  LIFE_ARTS  ...   \n",
       "\n",
       "  question_well_written  answer_helpful  answer_level_of_information  \\\n",
       "0              1.000000        1.000000                     0.666667   \n",
       "1              0.888889        0.888889                     0.555556   \n",
       "2              0.777778        0.777778                     0.555556   \n",
       "3              0.888889        0.833333                     0.333333   \n",
       "4              1.000000        1.000000                     0.666667   \n",
       "\n",
       "   answer_plausible  answer_relevance  answer_satisfaction  \\\n",
       "0          1.000000          1.000000             0.800000   \n",
       "1          0.888889          0.888889             0.666667   \n",
       "2          1.000000          1.000000             0.666667   \n",
       "3          0.833333          1.000000             0.800000   \n",
       "4          1.000000          1.000000             0.800000   \n",
       "\n",
       "   answer_type_instructions  answer_type_procedure  \\\n",
       "0                       1.0               0.000000   \n",
       "1                       0.0               0.000000   \n",
       "2                       0.0               0.333333   \n",
       "3                       0.0               0.000000   \n",
       "4                       1.0               0.000000   \n",
       "\n",
       "   answer_type_reason_explanation  answer_well_written  \n",
       "0                        0.000000             1.000000  \n",
       "1                        0.666667             0.888889  \n",
       "2                        1.000000             0.888889  \n",
       "3                        1.000000             1.000000  \n",
       "4                        1.000000             1.000000  \n",
       "\n",
       "[5 rows x 41 columns]"
      ]
     },
     "execution_count": 5,
     "metadata": {},
     "output_type": "execute_result"
    }
   ],
   "source": [
    "df.head()"
   ]
  },
  {
   "cell_type": "code",
   "execution_count": null,
   "metadata": {
    "execution": {
     "iopub.execute_input": "2025-06-18T16:30:15.635604Z",
     "iopub.status.busy": "2025-06-18T16:30:15.635330Z",
     "iopub.status.idle": "2025-06-18T16:30:15.639921Z",
     "shell.execute_reply": "2025-06-18T16:30:15.639192Z",
     "shell.execute_reply.started": "2025-06-18T16:30:15.635585Z"
    },
    "trusted": true
   },
   "outputs": [],
   "source": [
    "TARGET_COLUMNS = [\n",
    "    \"question_asker_intent_understanding\",\n",
    "    \"question_body_critical\",\n",
    "    \"question_conversational\",\n",
    "    \"question_expect_short_answer\",\n",
    "    \"question_fact_seeking\",\n",
    "    \"question_has_commonly_accepted_answer\",\n",
    "    \"question_interestingness_others\",\n",
    "    \"question_interestingness_self\",\n",
    "    \"question_multi_intent\",\n",
    "    \"question_not_really_a_question\",\n",
    "    \"question_opinion_seeking\",\n",
    "    \"question_type_choice\",\n",
    "    \"question_type_compare\",\n",
    "    \"question_type_consequence\",\n",
    "    \"question_type_definition\",\n",
    "    \"question_type_entity\",\n",
    "    \"question_type_instructions\",\n",
    "    \"question_type_procedure\",\n",
    "    \"question_type_reason_explanation\",\n",
    "    \"question_type_spelling\",\n",
    "    \"question_well_written\",\n",
    "    \"answer_helpful\",\n",
    "    \"answer_level_of_information\",\n",
    "    \"answer_plausible\",\n",
    "    \"answer_relevance\",\n",
    "    \"answer_satisfaction\",\n",
    "    \"answer_type_instructions\",\n",
    "    \"answer_type_procedure\",\n",
    "    \"answer_type_reason_explanation\",\n",
    "    \"answer_well_written\",\n",
    "]\n"
   ]
  },
  {
   "cell_type": "code",
   "execution_count": 7,
   "metadata": {
    "execution": {
     "iopub.execute_input": "2025-06-18T16:30:15.641031Z",
     "iopub.status.busy": "2025-06-18T16:30:15.640748Z",
     "iopub.status.idle": "2025-06-18T16:30:15.654631Z",
     "shell.execute_reply": "2025-06-18T16:30:15.654019Z",
     "shell.execute_reply.started": "2025-06-18T16:30:15.640998Z"
    },
    "trusted": true
   },
   "outputs": [
    {
     "data": {
      "text/plain": [
       "['question_asker_intent_understanding',\n",
       " 'question_body_critical',\n",
       " 'question_conversational',\n",
       " 'question_expect_short_answer',\n",
       " 'question_fact_seeking',\n",
       " 'question_has_commonly_accepted_answer',\n",
       " 'question_interestingness_others',\n",
       " 'question_interestingness_self',\n",
       " 'question_multi_intent',\n",
       " 'question_not_really_a_question',\n",
       " 'question_opinion_seeking',\n",
       " 'question_type_choice',\n",
       " 'question_type_compare',\n",
       " 'question_type_consequence',\n",
       " 'question_type_definition',\n",
       " 'question_type_entity',\n",
       " 'question_type_instructions',\n",
       " 'question_type_procedure',\n",
       " 'question_type_reason_explanation',\n",
       " 'question_type_spelling',\n",
       " 'question_well_written',\n",
       " 'answer_helpful',\n",
       " 'answer_level_of_information',\n",
       " 'answer_plausible',\n",
       " 'answer_relevance',\n",
       " 'answer_satisfaction',\n",
       " 'answer_type_instructions',\n",
       " 'answer_type_procedure',\n",
       " 'answer_type_reason_explanation',\n",
       " 'answer_well_written']"
      ]
     },
     "execution_count": 7,
     "metadata": {},
     "output_type": "execute_result"
    }
   ],
   "source": [
    "TARGET_COLUMNS"
   ]
  },
  {
   "cell_type": "code",
   "execution_count": null,
   "metadata": {
    "execution": {
     "iopub.execute_input": "2025-06-18T16:30:15.655677Z",
     "iopub.status.busy": "2025-06-18T16:30:15.655429Z",
     "iopub.status.idle": "2025-06-18T16:30:15.666330Z",
     "shell.execute_reply": "2025-06-18T16:30:15.665659Z",
     "shell.execute_reply.started": "2025-06-18T16:30:15.655651Z"
    },
    "trusted": true
   },
   "outputs": [],
   "source": [
    "class QuestDataset(Dataset):\n",
    "    def __init__(self, df, tokenizer, max_len=256):\n",
    "        self.df = df\n",
    "        self.tokenizer = tokenizer\n",
    "        self.max_len = max_len\n",
    "\n",
    "    def __len__(self):\n",
    "        return len(self.df)\n",
    "\n",
    "    def __getitem__(self, idx):\n",
    "        row = self.df.iloc[idx]\n",
    "        text = row[\"question_title\"] + \" \" + row[\"question_body\"] + \" \" + row[\"answer\"]\n",
    "        inputs = self.tokenizer(\n",
    "            text,\n",
    "            max_length=self.max_len,\n",
    "            padding=\"max_length\",\n",
    "            truncation=True,\n",
    "            return_tensors=\"pt\",\n",
    "        )\n",
    "        item = {key: val.squeeze(0) for key, val in inputs.items()}\n",
    "        item[\"labels\"] = torch.tensor(\n",
    "            row[TARGET_COLUMNS].values.astype(float), dtype=torch.float\n",
    "        )\n",
    "        return item"
   ]
  },
  {
   "cell_type": "markdown",
   "metadata": {},
   "source": [
    "# Tokenizer & DataLoader\n"
   ]
  },
  {
   "cell_type": "code",
   "execution_count": null,
   "metadata": {
    "execution": {
     "iopub.execute_input": "2025-06-18T16:30:15.667791Z",
     "iopub.status.busy": "2025-06-18T16:30:15.667067Z",
     "iopub.status.idle": "2025-06-18T16:30:15.737829Z",
     "shell.execute_reply": "2025-06-18T16:30:15.737157Z",
     "shell.execute_reply.started": "2025-06-18T16:30:15.667763Z"
    },
    "trusted": true
   },
   "outputs": [],
   "source": [
    "if not offline:\n",
    "    tokenizer = BertTokenizer.from_pretrained(\"bert-base-uncased\")\n",
    "    tokenizer.save_pretrained(\"bert-base-uncased-offline\")\n",
    "else:\n",
    "    tokenizer = BertTokenizer.from_pretrained(\n",
    "        \"/kaggle/input/bert-base-uncased-offline/pytorch/default/1/bert-base-uncased-offline\",\n",
    "        local_files_only=True,\n",
    "    )\n",
    "\n",
    "train_df, val_df = train_test_split(df, test_size=0.1, random_state=42)\n",
    "train_dataset = QuestDataset(train_df, tokenizer)\n",
    "val_dataset = QuestDataset(val_df, tokenizer)\n",
    "train_loader = DataLoader(train_dataset, batch_size=8, shuffle=True)\n",
    "val_loader = DataLoader(val_dataset, batch_size=8)\n"
   ]
  },
  {
   "cell_type": "markdown",
   "metadata": {},
   "source": [
    "# Model"
   ]
  },
  {
   "cell_type": "code",
   "execution_count": null,
   "metadata": {
    "execution": {
     "iopub.execute_input": "2025-06-18T16:30:15.739964Z",
     "iopub.status.busy": "2025-06-18T16:30:15.739725Z",
     "iopub.status.idle": "2025-06-18T16:30:20.254760Z",
     "shell.execute_reply": "2025-06-18T16:30:20.254188Z",
     "shell.execute_reply.started": "2025-06-18T16:30:15.739949Z"
    },
    "trusted": true
   },
   "outputs": [],
   "source": [
    "class QuestModel(nn.Module):\n",
    "    def __init__(self, num_labels):\n",
    "        super().__init__()\n",
    "        if not offline:\n",
    "            self.bert = BertModel.from_pretrained(\"bert-base-uncased\")\n",
    "            self.bert.save_pretrained(\"bert-base-uncased-offline\")\n",
    "        else:\n",
    "            self.bert = BertModel.from_pretrained(\n",
    "                \"/kaggle/input/bert-base-uncased-offline/pytorch/default/1/bert-base-uncased-offline\",\n",
    "                local_files_only=True,\n",
    "            )\n",
    "        self.dropout = nn.Dropout(0.2)\n",
    "        self.out = nn.Linear(self.bert.config.hidden_size, num_labels)\n",
    "\n",
    "    def forward(self, input_ids, attention_mask, token_type_ids, labels=None):\n",
    "        outputs = self.bert(\n",
    "            input_ids=input_ids,\n",
    "            attention_mask=attention_mask,\n",
    "            token_type_ids=token_type_ids,\n",
    "        )\n",
    "        pooled_output = self.dropout(outputs.pooler_output)\n",
    "        logits = self.out(pooled_output)\n",
    "        if labels is not None:\n",
    "            loss_fn = nn.BCEWithLogitsLoss()\n",
    "            loss = loss_fn(logits, labels)\n",
    "            return loss, logits\n",
    "        return logits\n",
    "\n",
    "\n",
    "model = QuestModel(num_labels=len(TARGET_COLUMNS)).cuda()\n"
   ]
  },
  {
   "cell_type": "markdown",
   "metadata": {},
   "source": [
    "# Optimizer & Scheduler\n"
   ]
  },
  {
   "cell_type": "code",
   "execution_count": null,
   "metadata": {
    "execution": {
     "iopub.execute_input": "2025-06-18T16:30:20.255656Z",
     "iopub.status.busy": "2025-06-18T16:30:20.255481Z",
     "iopub.status.idle": "2025-06-18T16:30:20.260768Z",
     "shell.execute_reply": "2025-06-18T16:30:20.260201Z",
     "shell.execute_reply.started": "2025-06-18T16:30:20.255643Z"
    },
    "trusted": true
   },
   "outputs": [],
   "source": [
    "optimizer = AdamW(model.parameters(), lr=2e-5)\n",
    "num_epochs = 3\n",
    "total_steps = len(train_loader) * num_epochs\n",
    "scheduler = get_linear_schedule_with_warmup(\n",
    "    optimizer, num_warmup_steps=0, num_training_steps=total_steps\n",
    ")"
   ]
  },
  {
   "cell_type": "markdown",
   "metadata": {},
   "source": [
    "# Training"
   ]
  },
  {
   "cell_type": "code",
   "execution_count": null,
   "metadata": {
    "execution": {
     "iopub.execute_input": "2025-06-18T16:30:20.261823Z",
     "iopub.status.busy": "2025-06-18T16:30:20.261564Z",
     "iopub.status.idle": "2025-06-18T16:30:33.360436Z",
     "shell.execute_reply": "2025-06-18T16:30:33.359703Z",
     "shell.execute_reply.started": "2025-06-18T16:30:20.261802Z"
    },
    "trusted": true
   },
   "outputs": [
    {
     "name": "stdout",
     "output_type": "stream",
     "text": [
      "Validation Loss: 0.3738970689867672\n"
     ]
    }
   ],
   "source": [
    "if not offline:\n",
    "    for epoch in range(num_epochs):\n",
    "        model.train()\n",
    "        total_loss = 0\n",
    "        for batch in tqdm(train_loader):\n",
    "            optimizer.zero_grad()\n",
    "            input_ids = batch[\"input_ids\"].cuda()\n",
    "            attention_mask = batch[\"attention_mask\"].cuda()\n",
    "            token_type_ids = batch[\"token_type_ids\"].cuda()\n",
    "            labels = batch[\"labels\"].cuda()\n",
    "            loss, _ = model(input_ids, attention_mask, token_type_ids, labels)\n",
    "            loss.backward()\n",
    "            optimizer.step()\n",
    "            scheduler.step()\n",
    "            total_loss += loss.item()\n",
    "        print(f\"Epoch {epoch + 1} Loss: {total_loss / len(train_loader)}\")\n",
    "\n",
    "    torch.save(model.state_dict(), \"quest_model.bin\")\n",
    "\n",
    "else:\n",
    "    model.load_state_dict(\n",
    "        torch.load(\n",
    "            \"/kaggle/input/lab1_model/pytorch/default/1/quest_model.bin\",\n",
    "            map_location=\"cpu\",\n",
    "        )\n",
    "    )\n",
    "\n",
    "model.eval()\n",
    "val_loss = 0\n",
    "with torch.no_grad():\n",
    "    for batch in val_loader:\n",
    "        input_ids = batch[\"input_ids\"].cuda()\n",
    "        attention_mask = batch[\"attention_mask\"].cuda()\n",
    "        token_type_ids = batch[\"token_type_ids\"].cuda()\n",
    "        labels = batch[\"labels\"].cuda()\n",
    "        loss, _ = model(input_ids, attention_mask, token_type_ids, labels)\n",
    "        val_loss += loss.item()\n",
    "print(f\"Validation Loss: {val_loss / len(val_loader)}\")\n"
   ]
  },
  {
   "cell_type": "markdown",
   "metadata": {},
   "source": [
    "# Submission "
   ]
  },
  {
   "cell_type": "code",
   "execution_count": null,
   "metadata": {
    "execution": {
     "iopub.execute_input": "2025-06-18T16:30:33.361316Z",
     "iopub.status.busy": "2025-06-18T16:30:33.361097Z",
     "iopub.status.idle": "2025-06-18T16:30:33.398572Z",
     "shell.execute_reply": "2025-06-18T16:30:33.397892Z",
     "shell.execute_reply.started": "2025-06-18T16:30:33.361301Z"
    },
    "trusted": true
   },
   "outputs": [],
   "source": [
    "test_df = pd.read_csv(\"/kaggle/input/google-quest-challenge/test.csv\")\n",
    "\n",
    "\n",
    "class QuestTestDataset(Dataset):\n",
    "    def __init__(self, df, tokenizer, max_len=256):\n",
    "        self.df = df\n",
    "        self.tokenizer = tokenizer\n",
    "        self.max_len = max_len\n",
    "\n",
    "    def __len__(self):\n",
    "        return len(self.df)\n",
    "\n",
    "    def __getitem__(self, idx):\n",
    "        row = self.df.iloc[idx]\n",
    "        text = (\n",
    "            str(row[\"question_title\"])\n",
    "            + \" \"\n",
    "            + str(row[\"question_body\"])\n",
    "            + \" \"\n",
    "            + str(row[\"answer\"])\n",
    "        )\n",
    "        inputs = self.tokenizer(\n",
    "            text,\n",
    "            max_length=self.max_len,\n",
    "            padding=\"max_length\",\n",
    "            truncation=True,\n",
    "            return_tensors=\"pt\",\n",
    "        )\n",
    "        item = {key: val.squeeze(0) for key, val in inputs.items()}\n",
    "        return item"
   ]
  },
  {
   "cell_type": "code",
   "execution_count": 14,
   "metadata": {
    "execution": {
     "iopub.execute_input": "2025-06-18T16:30:33.399948Z",
     "iopub.status.busy": "2025-06-18T16:30:33.399363Z",
     "iopub.status.idle": "2025-06-18T16:30:33.414497Z",
     "shell.execute_reply": "2025-06-18T16:30:33.413863Z",
     "shell.execute_reply.started": "2025-06-18T16:30:33.399922Z"
    },
    "trusted": true
   },
   "outputs": [],
   "source": [
    "test_dataset = QuestTestDataset(test_df, tokenizer)\n",
    "test_loader = DataLoader(test_dataset, batch_size=16, shuffle=False)"
   ]
  },
  {
   "cell_type": "markdown",
   "metadata": {
    "execution": {
     "iopub.execute_input": "2025-06-18T16:09:42.712295Z",
     "iopub.status.busy": "2025-06-18T16:09:42.712142Z",
     "iopub.status.idle": "2025-06-18T16:09:43.522643Z",
     "shell.execute_reply": "2025-06-18T16:09:43.521958Z",
     "shell.execute_reply.started": "2025-06-18T16:09:42.712282Z"
    }
   },
   "source": [
    "model = QuestModel(num_labels=len(TARGET_COLUMNS))\n",
    "\n",
    "CHECKPOINT_PATH = '/kaggle/input/lab1_model/pytorch/default/1/quest_model.bin' if offline else '/kaggle/working/quest_model.bin'\n",
    "model.load_state_dict(torch.load(CHECKPOINT_PATH, map_location='cpu'))\n",
    "\n",
    "model.eval()\n",
    "model.to('cuda' if torch.cuda.is_available() else 'cpu')"
   ]
  },
  {
   "cell_type": "code",
   "execution_count": null,
   "metadata": {
    "execution": {
     "iopub.execute_input": "2025-06-18T16:30:33.415648Z",
     "iopub.status.busy": "2025-06-18T16:30:33.415385Z",
     "iopub.status.idle": "2025-06-18T16:30:41.421728Z",
     "shell.execute_reply": "2025-06-18T16:30:41.421151Z",
     "shell.execute_reply.started": "2025-06-18T16:30:33.415628Z"
    },
    "trusted": true
   },
   "outputs": [
    {
     "name": "stderr",
     "output_type": "stream",
     "text": [
      "100%|██████████| 30/30 [00:07<00:00,  3.75it/s]\n"
     ]
    }
   ],
   "source": [
    "all_preds = []\n",
    "device = \"cuda\" if torch.cuda.is_available() else \"cpu\"\n",
    "with torch.no_grad():\n",
    "    for batch in tqdm(test_loader):\n",
    "        input_ids = batch[\"input_ids\"].to(device)\n",
    "        attention_mask = batch[\"attention_mask\"].to(device)\n",
    "        token_type_ids = batch[\"token_type_ids\"].to(device)\n",
    "        logits = model(input_ids, attention_mask, token_type_ids)\n",
    "        preds = torch.sigmoid(logits).cpu().numpy()\n",
    "        all_preds.append(preds)\n",
    "all_preds = np.concatenate(all_preds, axis=0)"
   ]
  },
  {
   "cell_type": "code",
   "execution_count": null,
   "metadata": {
    "execution": {
     "iopub.execute_input": "2025-06-18T16:30:41.422688Z",
     "iopub.status.busy": "2025-06-18T16:30:41.422422Z",
     "iopub.status.idle": "2025-06-18T16:30:41.456405Z",
     "shell.execute_reply": "2025-06-18T16:30:41.455873Z",
     "shell.execute_reply.started": "2025-06-18T16:30:41.422670Z"
    },
    "trusted": true
   },
   "outputs": [
    {
     "name": "stdout",
     "output_type": "stream",
     "text": [
      "submission.csv created!\n"
     ]
    }
   ],
   "source": [
    "submission = pd.read_csv(\"/kaggle/input/google-quest-challenge/sample_submission.csv\")\n",
    "submission[TARGET_COLUMNS] = all_preds\n",
    "submission.to_csv(\"submission.csv\", index=False)\n",
    "print(\"submission.csv created!\")"
   ]
  }
 ],
 "metadata": {
  "kaggle": {
   "accelerator": "nvidiaTeslaT4",
   "dataSources": [
    {
     "databundleVersionId": 828965,
     "isSourceIdPinned": false,
     "sourceId": 7968,
     "sourceType": "competition"
    },
    {
     "isSourceIdPinned": false,
     "modelId": 379668,
     "modelInstanceId": 358351,
     "sourceId": 439490,
     "sourceType": "modelInstanceVersion"
    },
    {
     "isSourceIdPinned": false,
     "modelId": 379686,
     "modelInstanceId": 358368,
     "sourceId": 439538,
     "sourceType": "modelInstanceVersion"
    }
   ],
   "dockerImageVersionId": 31041,
   "isGpuEnabled": true,
   "isInternetEnabled": false,
   "language": "python",
   "sourceType": "notebook"
  },
  "kernelspec": {
   "display_name": "Python 3",
   "language": "python",
   "name": "python3"
  },
  "language_info": {
   "codemirror_mode": {
    "name": "ipython",
    "version": 3
   },
   "file_extension": ".py",
   "mimetype": "text/x-python",
   "name": "python",
   "nbconvert_exporter": "python",
   "pygments_lexer": "ipython3",
   "version": "3.11.11"
  }
 },
 "nbformat": 4,
 "nbformat_minor": 4
}
